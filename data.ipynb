{
 "metadata": {
  "language_info": {
   "codemirror_mode": {
    "name": "ipython",
    "version": 3
   },
   "file_extension": ".py",
   "mimetype": "text/x-python",
   "name": "python",
   "nbconvert_exporter": "python",
   "pygments_lexer": "ipython3",
   "version": "3.7.6-final"
  },
  "orig_nbformat": 2,
  "kernelspec": {
   "name": "python_defaultSpec_1601827172925",
   "display_name": "Python 3.7.6 64-bit ('base': conda)",
   "metadata": {
    "interpreter": {
     "hash": "37c139f5431107e422e5affdb96566cc7bc4291c0219fcb5b31015c986fd2290"
    }
   }
  }
 },
 "nbformat": 4,
 "nbformat_minor": 2,
 "cells": [
  {
   "cell_type": "code",
   "execution_count": 1,
   "metadata": {},
   "outputs": [],
   "source": [
    "#import necessary dependecies\n",
    "import plotly.express as px\n",
    "import seaborn as sns\n",
    "from sklearn.ensemble import RandomForestClassifier, GradientBoostingClassifier, AdaBoostClassifier\n",
    "from sklearn.neighbors import KNeighborsClassifier\n",
    "from sklearn.cluster import KMeans\n",
    "import math\n",
    "from sklearn.preprocessing import LabelEncoder\n",
    "from sklearn.pipeline import Pipeline\n",
    "import os\n",
    "import warnings\n",
    "import numpy as np  \n",
    "import seaborn as sns\n",
    "import pandas as pd, os, gc\n",
    "import matplotlib.pyplot as plt\n",
    "from sklearn.metrics import roc_curve, auc, log_loss\n",
    "from sklearn.feature_selection import mutual_info_classif\n",
    "from sklearn.preprocessing import StandardScaler, RobustScaler\n",
    "%matplotlib inline\n",
    "warnings.filterwarnings('ignore')\n",
    "from typing import List"
   ]
  },
  {
   "cell_type": "code",
   "execution_count": 9,
   "metadata": {},
   "outputs": [],
   "source": [
    "#Data Path\n",
    "\n",
    "trains=pd.read_csv('Train.csv')\n",
    "tests=pd.read_csv('Test.csv')\n",
    "submissions=pd.read_csv('SampleSubmission.csv')"
   ]
  },
  {
   "cell_type": "code",
   "execution_count": 10,
   "metadata": {
    "tags": []
   },
   "outputs": [
    {
     "output_type": "stream",
     "name": "stdout",
     "text": "(29132, 29) (10000, 29) (210000, 2)\n"
    }
   ],
   "source": [
    "#print all dataset shape\n",
    "print(trains.shape, tests.shape,submissions.shape)"
   ]
  },
  {
   "cell_type": "code",
   "execution_count": 12,
   "metadata": {},
   "outputs": [],
   "source": [
    "train = trains\n",
    "test = tests\n",
    "submission = submissions"
   ]
  },
  {
   "cell_type": "code",
   "execution_count": 14,
   "metadata": {},
   "outputs": [],
   "source": [
    "#Store Products ID in Multidimensional array\n",
    "products =train[['P5DA', 'RIBP', '8NN1',\n",
    "       '7POT', '66FJ', 'GYSR', 'SOP4', 'RVSZ', 'PYUQ', 'LJR9', 'N2MW', 'AHXO',\n",
    "       'BSTQ', 'FM3X', 'K6QO', 'QBOL', 'JWFN', 'JZ9D', 'J9JW', 'GHYX', 'ECY3']]\n",
    "products_t =test[['P5DA', 'RIBP', '8NN1',\n",
    "       '7POT', '66FJ', 'GYSR', 'SOP4', 'RVSZ', 'PYUQ', 'LJR9', 'N2MW', 'AHXO',\n",
    "       'BSTQ', 'FM3X', 'K6QO', 'QBOL', 'JWFN', 'JZ9D', 'J9JW', 'GHYX', 'ECY3']]"
   ]
  },
  {
   "cell_type": "code",
   "execution_count": 15,
   "metadata": {},
   "outputs": [],
   "source": [
    "#Axis Transformation\n",
    "train = train.melt(id_vars=train.columns[:8], value_vars=products, var_name = \"PCODE\", value_name=\"Label\" )\n",
    "test = test.melt(id_vars=test.columns[:8], value_vars=products, var_name = \"PCODE\", value_name=\"Label\" )"
   ]
  },
  {
   "cell_type": "code",
   "execution_count": 16,
   "metadata": {},
   "outputs": [],
   "source": [
    "#A merger\n",
    "train['combiner']='x'"
   ]
  },
  {
   "cell_type": "code",
   "execution_count": 17,
   "metadata": {},
   "outputs": [],
   "source": [
    "#Set\n",
    "data=pd.concat([train,test],sort=False).reset_index(drop=True)"
   ]
  },
  {
   "cell_type": "code",
   "execution_count": 18,
   "metadata": {},
   "outputs": [
    {
     "output_type": "execute_result",
     "data": {
      "text/plain": "             ID  join_date sex marital_status  birth_year branch_code  \\\n671880  23D0OIU  1/10/2017   F              S        1968        XX25   \n566239  NLRPX1J   1/8/2019   M              M        1980        1X1H   \n404068  Z2W6FSU   1/8/2018   M              M        1967        748L   \n\n       occupation_code occupation_category_code PCODE  Label combiner  \n671880            RUFT                     T4MS  SOP4      0      NaN  \n566239            2A7I                     T4MS  GHYX      0        x  \n404068            2A7I                     T4MS  FM3X      0        x  ",
      "text/html": "<div>\n<style scoped>\n    .dataframe tbody tr th:only-of-type {\n        vertical-align: middle;\n    }\n\n    .dataframe tbody tr th {\n        vertical-align: top;\n    }\n\n    .dataframe thead th {\n        text-align: right;\n    }\n</style>\n<table border=\"1\" class=\"dataframe\">\n  <thead>\n    <tr style=\"text-align: right;\">\n      <th></th>\n      <th>ID</th>\n      <th>join_date</th>\n      <th>sex</th>\n      <th>marital_status</th>\n      <th>birth_year</th>\n      <th>branch_code</th>\n      <th>occupation_code</th>\n      <th>occupation_category_code</th>\n      <th>PCODE</th>\n      <th>Label</th>\n      <th>combiner</th>\n    </tr>\n  </thead>\n  <tbody>\n    <tr>\n      <th>671880</th>\n      <td>23D0OIU</td>\n      <td>1/10/2017</td>\n      <td>F</td>\n      <td>S</td>\n      <td>1968</td>\n      <td>XX25</td>\n      <td>RUFT</td>\n      <td>T4MS</td>\n      <td>SOP4</td>\n      <td>0</td>\n      <td>NaN</td>\n    </tr>\n    <tr>\n      <th>566239</th>\n      <td>NLRPX1J</td>\n      <td>1/8/2019</td>\n      <td>M</td>\n      <td>M</td>\n      <td>1980</td>\n      <td>1X1H</td>\n      <td>2A7I</td>\n      <td>T4MS</td>\n      <td>GHYX</td>\n      <td>0</td>\n      <td>x</td>\n    </tr>\n    <tr>\n      <th>404068</th>\n      <td>Z2W6FSU</td>\n      <td>1/8/2018</td>\n      <td>M</td>\n      <td>M</td>\n      <td>1967</td>\n      <td>748L</td>\n      <td>2A7I</td>\n      <td>T4MS</td>\n      <td>FM3X</td>\n      <td>0</td>\n      <td>x</td>\n    </tr>\n  </tbody>\n</table>\n</div>"
     },
     "metadata": {},
     "execution_count": 18
    }
   ],
   "source": [
    "#preview random 3 sample\n",
    "data.sample(3)"
   ]
  },
  {
   "cell_type": "code",
   "execution_count": 19,
   "metadata": {
    "tags": []
   },
   "outputs": [
    {
     "output_type": "stream",
     "name": "stdout",
     "text": "====================================\nTRAIN LABEL DISTRIBUTION\n====================================\n0    545419\n1     66353\nName: Label, dtype: int64\n====================================\nTEST LABEL DISTRIBUTION\n====================================\n0    197147\n1     12853\nName: Label, dtype: int64\n====================================\nSAMPLE SUBMISSION LABEL DISTRIBUTION\n====================================\n0    197147\n1     12853\nName: Label, dtype: int64\n"
    }
   ],
   "source": [
    "#Confirm Distribution (TEST AND SAMPLE SUBMISSION FILE)\n",
    "print('==' * 18);print('TRAIN LABEL DISTRIBUTION');print('==' * 18);print(train['Label'].value_counts())\n",
    "print('==' * 18);print('TEST LABEL DISTRIBUTION');print('==' * 18);print(test['Label'].value_counts())\n",
    "print('==' * 18);print('SAMPLE SUBMISSION LABEL DISTRIBUTION');print('==' * 18);print(submission['Label'].value_counts())"
   ]
  },
  {
   "cell_type": "code",
   "execution_count": 20,
   "metadata": {
    "tags": []
   },
   "outputs": [
    {
     "output_type": "stream",
     "name": "stdout",
     "text": "(611772, 10) (210000, 9) (210000, 2)\n"
    }
   ],
   "source": [
    "train=data[data.combiner.notnull()].reset_index(drop=True);test=data[data.combiner.isna()].reset_index(drop=True)\n",
    "train.drop('combiner', inplace=True, axis=1);test.drop(['Label','combiner'], inplace=True, axis=1)\n",
    "print(train.shape, test.shape, submission.shape)"
   ]
  },
  {
   "cell_type": "code",
   "execution_count": 21,
   "metadata": {},
   "outputs": [],
   "source": [
    "#Concatenate new column towards submission requirement\n",
    "train['ID X PCODE'] = train['ID'] + ' X ' + train['PCODE'];test['ID X PCODE'] = test['ID'] + ' X ' + test['PCODE']"
   ]
  },
  {
   "cell_type": "code",
   "execution_count": 22,
   "metadata": {},
   "outputs": [],
   "source": [
    "#Re-arrange column (not necessary)\n",
    "train=train[['ID', 'join_date', 'sex', 'marital_status', 'birth_year', 'branch_code',\n",
    "       'occupation_code', 'occupation_category_code', 'PCODE','ID X PCODE',  'Label']]\n",
    "test=test[['ID', 'join_date', 'sex', 'marital_status', 'birth_year', 'branch_code',\n",
    "       'occupation_code', 'occupation_category_code', 'PCODE','ID X PCODE']]"
   ]
  },
  {
   "cell_type": "code",
   "execution_count": 23,
   "metadata": {
    "tags": []
   },
   "outputs": [
    {
     "output_type": "stream",
     "name": "stdout",
     "text": "Not in Test PCODE  []\nNot in Train PCODE  []\n============================================================\nNot in Test occupation_code  [&#39;IE90&#39;, &#39;Q0LY&#39;, &#39;JSAX&#39;, &#39;6XXU&#39;, &#39;8HRZ&#39;, &#39;OQMY&#39;, &#39;INEJ&#39;, &#39;VZN9&#39;, &#39;UC7E&#39;, &#39;PSUY&#39;, &#39;WSRG&#39;, &#39;JQH3&#39;, &#39;LGTN&#39;, &#39;738L&#39;, &#39;QQUP&#39;, &#39;2XZ1&#39;, &#39;CAAV&#39;, &#39;LLLH&#39;, &#39;W1X2&#39;, &#39;DHSN&#39;, &#39;IX8T&#39;, &#39;2US6&#39;, &#39;ZWPL&#39;, &#39;MEFQ&#39;, &#39;9B5B&#39;, &#39;JUIP&#39;, &#39;BFD1&#39;, &#39;A4ZC&#39;, &#39;IMHI&#39;, &#39;E5PF&#39;, &#39;GZA8&#39;, &#39;3YQ1&#39;, &#39;PJR4&#39;, &#39;NDL9&#39;, &#39;PPNK&#39;, &#39;2686&#39;, &#39;5LNN&#39;, &#39;374O&#39;, &#39;URYD&#39;, &#39;M0WG&#39;, &#39;KBWO&#39;, &#39;ONY7&#39;, &#39;VYSA&#39;, &#39;KUPK&#39;, &#39;R7GL&#39;, &#39;HSVE&#39;, &#39;BER4&#39;, &#39;6SKY&#39;, &#39;RH2K&#39;, &#39;ZHC2&#39;, &#39;W3ZV&#39;, &#39;FLXH&#39;, &#39;UYDZ&#39;, &#39;YJXM&#39;, &#39;59QM&#39;]\nNot in Train occupation_code  [&#39;0ZND&#39;, &#39;8CHJ&#39;, &#39;9F96&#39;, &#39;HSI5&#39;, &#39;93OJ&#39;, &#39;BIA0&#39;, &#39;E2MJ&#39;, &#39;JBJP&#39;, &#39;0FOI&#39;]\n============================================================\nNot in Test branch_code  []\nNot in Train branch_code  []\n============================================================\nNot in Test occupation_category_code  []\nNot in Train occupation_category_code  []\n============================================================\n"
    }
   ],
   "source": [
    "#Lets Check for data co-existence in Train/Test\n",
    "for col in ['PCODE','occupation_code', 'branch_code','occupation_category_code']:\n",
    "    train_col = train[col].unique();test_col = test[col].unique()\n",
    "    print ('Not in Test ' + col + ' ',[i  for i in train_col if i not in test_col])\n",
    "    print ('Not in Train ' + col + ' ',[i  for i in test_col  if i not in train_col]);print('==' * 30)"
   ]
  },
  {
   "cell_type": "code",
   "execution_count": 24,
   "metadata": {},
   "outputs": [
    {
     "output_type": "execute_result",
     "data": {
      "text/plain": "        ID join_date sex marital_status  birth_year branch_code  \\\n0  4WKQSBB  1/2/2019   F              M        1987        1X1H   \n1  CP5S02H  1/6/2019   F              M        1981        UAOD   \n2  2YKDILJ  1/6/2013   M              U        1991        748L   \n3  2S9E81J  1/8/2019   M              M        1990        1X1H   \n4  BHDYVFT  1/8/2019   M              M        1990        748L   \n\n  occupation_code occupation_category_code PCODE      ID X PCODE  Label  \n0            2A7I                     T4MS  P5DA  4WKQSBB X P5DA      0  \n1            2A7I                     T4MS  P5DA  CP5S02H X P5DA      0  \n2            QZYX                     90QI  P5DA  2YKDILJ X P5DA      0  \n3            BP09                     56SI  P5DA  2S9E81J X P5DA      0  \n4            NO3L                     T4MS  P5DA  BHDYVFT X P5DA      0  ",
      "text/html": "<div>\n<style scoped>\n    .dataframe tbody tr th:only-of-type {\n        vertical-align: middle;\n    }\n\n    .dataframe tbody tr th {\n        vertical-align: top;\n    }\n\n    .dataframe thead th {\n        text-align: right;\n    }\n</style>\n<table border=\"1\" class=\"dataframe\">\n  <thead>\n    <tr style=\"text-align: right;\">\n      <th></th>\n      <th>ID</th>\n      <th>join_date</th>\n      <th>sex</th>\n      <th>marital_status</th>\n      <th>birth_year</th>\n      <th>branch_code</th>\n      <th>occupation_code</th>\n      <th>occupation_category_code</th>\n      <th>PCODE</th>\n      <th>ID X PCODE</th>\n      <th>Label</th>\n    </tr>\n  </thead>\n  <tbody>\n    <tr>\n      <th>0</th>\n      <td>4WKQSBB</td>\n      <td>1/2/2019</td>\n      <td>F</td>\n      <td>M</td>\n      <td>1987</td>\n      <td>1X1H</td>\n      <td>2A7I</td>\n      <td>T4MS</td>\n      <td>P5DA</td>\n      <td>4WKQSBB X P5DA</td>\n      <td>0</td>\n    </tr>\n    <tr>\n      <th>1</th>\n      <td>CP5S02H</td>\n      <td>1/6/2019</td>\n      <td>F</td>\n      <td>M</td>\n      <td>1981</td>\n      <td>UAOD</td>\n      <td>2A7I</td>\n      <td>T4MS</td>\n      <td>P5DA</td>\n      <td>CP5S02H X P5DA</td>\n      <td>0</td>\n    </tr>\n    <tr>\n      <th>2</th>\n      <td>2YKDILJ</td>\n      <td>1/6/2013</td>\n      <td>M</td>\n      <td>U</td>\n      <td>1991</td>\n      <td>748L</td>\n      <td>QZYX</td>\n      <td>90QI</td>\n      <td>P5DA</td>\n      <td>2YKDILJ X P5DA</td>\n      <td>0</td>\n    </tr>\n    <tr>\n      <th>3</th>\n      <td>2S9E81J</td>\n      <td>1/8/2019</td>\n      <td>M</td>\n      <td>M</td>\n      <td>1990</td>\n      <td>1X1H</td>\n      <td>BP09</td>\n      <td>56SI</td>\n      <td>P5DA</td>\n      <td>2S9E81J X P5DA</td>\n      <td>0</td>\n    </tr>\n    <tr>\n      <th>4</th>\n      <td>BHDYVFT</td>\n      <td>1/8/2019</td>\n      <td>M</td>\n      <td>M</td>\n      <td>1990</td>\n      <td>748L</td>\n      <td>NO3L</td>\n      <td>T4MS</td>\n      <td>P5DA</td>\n      <td>BHDYVFT X P5DA</td>\n      <td>0</td>\n    </tr>\n  </tbody>\n</table>\n</div>"
     },
     "metadata": {},
     "execution_count": 24
    }
   ],
   "source": [
    "train.head()"
   ]
  },
  {
   "cell_type": "code",
   "execution_count": 25,
   "metadata": {},
   "outputs": [],
   "source": [
    "# LABEL ENCODE\n",
    "def encode_LE(train,test,cols,verbose=True):\n",
    "    for col in cols:\n",
    "        df_comb = pd.concat([train[col],test[col]],axis=0)\n",
    "        df_comb,_ = df_comb.factorize(sort=True)\n",
    "        nm = col\n",
    "        if df_comb.max()>32000: \n",
    "            train[nm] = df_comb[:len(train)].astype('int32')\n",
    "            test[nm] = df_comb[len(train):].astype('int32')\n",
    "        else:\n",
    "            train[nm] = df_comb[:len(train)].astype('int16')\n",
    "            test[nm] = df_comb[len(train):].astype('int16')\n",
    "        del df_comb; x=gc.collect()\n",
    "        if verbose: print(nm,', ',end='')"
   ]
  },
  {
   "cell_type": "code",
   "execution_count": 26,
   "metadata": {
    "tags": []
   },
   "outputs": [
    {
     "output_type": "stream",
     "name": "stdout",
     "text": "ID , branch_code , occupation_code , occupation_category_code , PCODE , sex , marital_status , "
    }
   ],
   "source": [
    "encode_LE(train, test, ['ID','branch_code', 'occupation_code','occupation_category_code','PCODE','sex','marital_status'])"
   ]
  },
  {
   "cell_type": "code",
   "execution_count": 27,
   "metadata": {},
   "outputs": [
    {
     "output_type": "execute_result",
     "data": {
      "text/plain": "      ID join_date  sex  marital_status  birth_year  branch_code  \\\n0   5384  1/2/2019    0               2        1987            0   \n1  13834  1/6/2019    0               2        1981           11   \n2   3217  1/6/2013    1               6        1991            3   \n3   3010  1/8/2019    1               2        1990            0   \n4  12546  1/8/2019    1               2        1990            3   \n\n   occupation_code  occupation_category_code  PCODE      ID X PCODE  Label  \n0               19                         5     15  4WKQSBB X P5DA      0  \n1               19                         5     15  CP5S02H X P5DA      0  \n2              185                         1     15  2YKDILJ X P5DA      0  \n3               82                         0     15  2S9E81J X P5DA      0  \n4              157                         5     15  BHDYVFT X P5DA      0  ",
      "text/html": "<div>\n<style scoped>\n    .dataframe tbody tr th:only-of-type {\n        vertical-align: middle;\n    }\n\n    .dataframe tbody tr th {\n        vertical-align: top;\n    }\n\n    .dataframe thead th {\n        text-align: right;\n    }\n</style>\n<table border=\"1\" class=\"dataframe\">\n  <thead>\n    <tr style=\"text-align: right;\">\n      <th></th>\n      <th>ID</th>\n      <th>join_date</th>\n      <th>sex</th>\n      <th>marital_status</th>\n      <th>birth_year</th>\n      <th>branch_code</th>\n      <th>occupation_code</th>\n      <th>occupation_category_code</th>\n      <th>PCODE</th>\n      <th>ID X PCODE</th>\n      <th>Label</th>\n    </tr>\n  </thead>\n  <tbody>\n    <tr>\n      <th>0</th>\n      <td>5384</td>\n      <td>1/2/2019</td>\n      <td>0</td>\n      <td>2</td>\n      <td>1987</td>\n      <td>0</td>\n      <td>19</td>\n      <td>5</td>\n      <td>15</td>\n      <td>4WKQSBB X P5DA</td>\n      <td>0</td>\n    </tr>\n    <tr>\n      <th>1</th>\n      <td>13834</td>\n      <td>1/6/2019</td>\n      <td>0</td>\n      <td>2</td>\n      <td>1981</td>\n      <td>11</td>\n      <td>19</td>\n      <td>5</td>\n      <td>15</td>\n      <td>CP5S02H X P5DA</td>\n      <td>0</td>\n    </tr>\n    <tr>\n      <th>2</th>\n      <td>3217</td>\n      <td>1/6/2013</td>\n      <td>1</td>\n      <td>6</td>\n      <td>1991</td>\n      <td>3</td>\n      <td>185</td>\n      <td>1</td>\n      <td>15</td>\n      <td>2YKDILJ X P5DA</td>\n      <td>0</td>\n    </tr>\n    <tr>\n      <th>3</th>\n      <td>3010</td>\n      <td>1/8/2019</td>\n      <td>1</td>\n      <td>2</td>\n      <td>1990</td>\n      <td>0</td>\n      <td>82</td>\n      <td>0</td>\n      <td>15</td>\n      <td>2S9E81J X P5DA</td>\n      <td>0</td>\n    </tr>\n    <tr>\n      <th>4</th>\n      <td>12546</td>\n      <td>1/8/2019</td>\n      <td>1</td>\n      <td>2</td>\n      <td>1990</td>\n      <td>3</td>\n      <td>157</td>\n      <td>5</td>\n      <td>15</td>\n      <td>BHDYVFT X P5DA</td>\n      <td>0</td>\n    </tr>\n  </tbody>\n</table>\n</div>"
     },
     "metadata": {},
     "execution_count": 27
    }
   ],
   "source": [
    "train.head()"
   ]
  },
  {
   "cell_type": "code",
   "execution_count": 33,
   "metadata": {},
   "outputs": [
    {
     "output_type": "execute_result",
     "data": {
      "text/plain": "           ID  join_date  sex  marital_status  birth_year  branch_code  \\\n209995    506   1/4/2019    0               2        1986            3   \n209996  19909   1/8/2019    1               2        1980           11   \n209997   4460   1/4/2018    1               2        1993            3   \n209998   9194   1/5/2015    0               6        1981            2   \n209999  35311  1/11/2018    1               6        1977            4   \n\n        occupation_code  occupation_category_code  PCODE      ID X PCODE  \n209995               19                         5      5  0GMU5UH X ECY3  \n209996                3                         5      5  I9W11CD X ECY3  \n209997              200                         0      5  42WTEGT X ECY3  \n209998               19                         5      5  8EKC4O9 X ECY3  \n209999               19                         5      5  WHII93K X ECY3  ",
      "text/html": "<div>\n<style scoped>\n    .dataframe tbody tr th:only-of-type {\n        vertical-align: middle;\n    }\n\n    .dataframe tbody tr th {\n        vertical-align: top;\n    }\n\n    .dataframe thead th {\n        text-align: right;\n    }\n</style>\n<table border=\"1\" class=\"dataframe\">\n  <thead>\n    <tr style=\"text-align: right;\">\n      <th></th>\n      <th>ID</th>\n      <th>join_date</th>\n      <th>sex</th>\n      <th>marital_status</th>\n      <th>birth_year</th>\n      <th>branch_code</th>\n      <th>occupation_code</th>\n      <th>occupation_category_code</th>\n      <th>PCODE</th>\n      <th>ID X PCODE</th>\n    </tr>\n  </thead>\n  <tbody>\n    <tr>\n      <th>209995</th>\n      <td>506</td>\n      <td>1/4/2019</td>\n      <td>0</td>\n      <td>2</td>\n      <td>1986</td>\n      <td>3</td>\n      <td>19</td>\n      <td>5</td>\n      <td>5</td>\n      <td>0GMU5UH X ECY3</td>\n    </tr>\n    <tr>\n      <th>209996</th>\n      <td>19909</td>\n      <td>1/8/2019</td>\n      <td>1</td>\n      <td>2</td>\n      <td>1980</td>\n      <td>11</td>\n      <td>3</td>\n      <td>5</td>\n      <td>5</td>\n      <td>I9W11CD X ECY3</td>\n    </tr>\n    <tr>\n      <th>209997</th>\n      <td>4460</td>\n      <td>1/4/2018</td>\n      <td>1</td>\n      <td>2</td>\n      <td>1993</td>\n      <td>3</td>\n      <td>200</td>\n      <td>0</td>\n      <td>5</td>\n      <td>42WTEGT X ECY3</td>\n    </tr>\n    <tr>\n      <th>209998</th>\n      <td>9194</td>\n      <td>1/5/2015</td>\n      <td>0</td>\n      <td>6</td>\n      <td>1981</td>\n      <td>2</td>\n      <td>19</td>\n      <td>5</td>\n      <td>5</td>\n      <td>8EKC4O9 X ECY3</td>\n    </tr>\n    <tr>\n      <th>209999</th>\n      <td>35311</td>\n      <td>1/11/2018</td>\n      <td>1</td>\n      <td>6</td>\n      <td>1977</td>\n      <td>4</td>\n      <td>19</td>\n      <td>5</td>\n      <td>5</td>\n      <td>WHII93K X ECY3</td>\n    </tr>\n  </tbody>\n</table>\n</div>"
     },
     "metadata": {},
     "execution_count": 33
    }
   ],
   "source": [
    "test.tail()"
   ]
  },
  {
   "cell_type": "code",
   "execution_count": 34,
   "metadata": {},
   "outputs": [],
   "source": [
    "final_train = train.iloc[:, :9]"
   ]
  },
  {
   "cell_type": "code",
   "execution_count": 35,
   "metadata": {},
   "outputs": [
    {
     "output_type": "execute_result",
     "data": {
      "text/plain": "      ID join_date  sex  marital_status  birth_year  branch_code  \\\n0   5384  1/2/2019    0               2        1987            0   \n1  13834  1/6/2019    0               2        1981           11   \n2   3217  1/6/2013    1               6        1991            3   \n3   3010  1/8/2019    1               2        1990            0   \n4  12546  1/8/2019    1               2        1990            3   \n\n   occupation_code  occupation_category_code  PCODE  \n0               19                         5     15  \n1               19                         5     15  \n2              185                         1     15  \n3               82                         0     15  \n4              157                         5     15  ",
      "text/html": "<div>\n<style scoped>\n    .dataframe tbody tr th:only-of-type {\n        vertical-align: middle;\n    }\n\n    .dataframe tbody tr th {\n        vertical-align: top;\n    }\n\n    .dataframe thead th {\n        text-align: right;\n    }\n</style>\n<table border=\"1\" class=\"dataframe\">\n  <thead>\n    <tr style=\"text-align: right;\">\n      <th></th>\n      <th>ID</th>\n      <th>join_date</th>\n      <th>sex</th>\n      <th>marital_status</th>\n      <th>birth_year</th>\n      <th>branch_code</th>\n      <th>occupation_code</th>\n      <th>occupation_category_code</th>\n      <th>PCODE</th>\n    </tr>\n  </thead>\n  <tbody>\n    <tr>\n      <th>0</th>\n      <td>5384</td>\n      <td>1/2/2019</td>\n      <td>0</td>\n      <td>2</td>\n      <td>1987</td>\n      <td>0</td>\n      <td>19</td>\n      <td>5</td>\n      <td>15</td>\n    </tr>\n    <tr>\n      <th>1</th>\n      <td>13834</td>\n      <td>1/6/2019</td>\n      <td>0</td>\n      <td>2</td>\n      <td>1981</td>\n      <td>11</td>\n      <td>19</td>\n      <td>5</td>\n      <td>15</td>\n    </tr>\n    <tr>\n      <th>2</th>\n      <td>3217</td>\n      <td>1/6/2013</td>\n      <td>1</td>\n      <td>6</td>\n      <td>1991</td>\n      <td>3</td>\n      <td>185</td>\n      <td>1</td>\n      <td>15</td>\n    </tr>\n    <tr>\n      <th>3</th>\n      <td>3010</td>\n      <td>1/8/2019</td>\n      <td>1</td>\n      <td>2</td>\n      <td>1990</td>\n      <td>0</td>\n      <td>82</td>\n      <td>0</td>\n      <td>15</td>\n    </tr>\n    <tr>\n      <th>4</th>\n      <td>12546</td>\n      <td>1/8/2019</td>\n      <td>1</td>\n      <td>2</td>\n      <td>1990</td>\n      <td>3</td>\n      <td>157</td>\n      <td>5</td>\n      <td>15</td>\n    </tr>\n  </tbody>\n</table>\n</div>"
     },
     "metadata": {},
     "execution_count": 35
    }
   ],
   "source": [
    "final_train.head()"
   ]
  },
  {
   "cell_type": "code",
   "execution_count": 56,
   "metadata": {},
   "outputs": [],
   "source": [
    "final_train.to_csv('final.csv')"
   ]
  },
  {
   "cell_type": "code",
   "execution_count": 63,
   "metadata": {},
   "outputs": [
    {
     "output_type": "execute_result",
     "data": {
      "text/plain": "Index([&#39;index&#39;, &#39;join_date&#39;, &#39;sex&#39;, &#39;marital_status&#39;, &#39;birth_year&#39;,\n       &#39;branch_code&#39;, &#39;occupation_code&#39;, &#39;occupation_category_code&#39;, &#39;PCODE&#39;],\n      dtype=&#39;object&#39;)"
     },
     "metadata": {},
     "execution_count": 63
    }
   ],
   "source": [
    "final = pd.read_csv('final.csv',index_col='ID')\n",
    "final.columns"
   ]
  },
  {
   "cell_type": "code",
   "execution_count": 62,
   "metadata": {},
   "outputs": [
    {
     "output_type": "execute_result",
     "data": {
      "text/plain": "   index     ID join_date  sex  marital_status  birth_year  branch_code  \\\n0      0   5384  01-02-19    0               2        1987            0   \n1      1  13834  01-06-19    0               2        1981           11   \n2      2   3217  01-06-13    1               6        1991            3   \n3      3   3010  01-08-19    1               2        1990            0   \n4      4  12546  01-08-19    1               2        1990            3   \n\n   occupation_code  occupation_category_code  PCODE  \n0               19                         5     15  \n1               19                         5     15  \n2              185                         1     15  \n3               82                         0     15  \n4              157                         5     15  ",
      "text/html": "<div>\n<style scoped>\n    .dataframe tbody tr th:only-of-type {\n        vertical-align: middle;\n    }\n\n    .dataframe tbody tr th {\n        vertical-align: top;\n    }\n\n    .dataframe thead th {\n        text-align: right;\n    }\n</style>\n<table border=\"1\" class=\"dataframe\">\n  <thead>\n    <tr style=\"text-align: right;\">\n      <th></th>\n      <th>index</th>\n      <th>ID</th>\n      <th>join_date</th>\n      <th>sex</th>\n      <th>marital_status</th>\n      <th>birth_year</th>\n      <th>branch_code</th>\n      <th>occupation_code</th>\n      <th>occupation_category_code</th>\n      <th>PCODE</th>\n    </tr>\n  </thead>\n  <tbody>\n    <tr>\n      <th>0</th>\n      <td>0</td>\n      <td>5384</td>\n      <td>01-02-19</td>\n      <td>0</td>\n      <td>2</td>\n      <td>1987</td>\n      <td>0</td>\n      <td>19</td>\n      <td>5</td>\n      <td>15</td>\n    </tr>\n    <tr>\n      <th>1</th>\n      <td>1</td>\n      <td>13834</td>\n      <td>01-06-19</td>\n      <td>0</td>\n      <td>2</td>\n      <td>1981</td>\n      <td>11</td>\n      <td>19</td>\n      <td>5</td>\n      <td>15</td>\n    </tr>\n    <tr>\n      <th>2</th>\n      <td>2</td>\n      <td>3217</td>\n      <td>01-06-13</td>\n      <td>1</td>\n      <td>6</td>\n      <td>1991</td>\n      <td>3</td>\n      <td>185</td>\n      <td>1</td>\n      <td>15</td>\n    </tr>\n    <tr>\n      <th>3</th>\n      <td>3</td>\n      <td>3010</td>\n      <td>01-08-19</td>\n      <td>1</td>\n      <td>2</td>\n      <td>1990</td>\n      <td>0</td>\n      <td>82</td>\n      <td>0</td>\n      <td>15</td>\n    </tr>\n    <tr>\n      <th>4</th>\n      <td>4</td>\n      <td>12546</td>\n      <td>01-08-19</td>\n      <td>1</td>\n      <td>2</td>\n      <td>1990</td>\n      <td>3</td>\n      <td>157</td>\n      <td>5</td>\n      <td>15</td>\n    </tr>\n  </tbody>\n</table>\n</div>"
     },
     "metadata": {},
     "execution_count": 62
    }
   ],
   "source": [
    "\n",
    "final.head()"
   ]
  },
  {
   "cell_type": "code",
   "execution_count": 66,
   "metadata": {},
   "outputs": [],
   "source": [
    "final = final.drop(['index'], axis=1)"
   ]
  },
  {
   "cell_type": "code",
   "execution_count": 67,
   "metadata": {},
   "outputs": [
    {
     "output_type": "execute_result",
     "data": {
      "text/plain": "      join_date  sex  marital_status  birth_year  branch_code  \\\nID                                                              \n5384   01-02-19    0               2        1987            0   \n13834  01-06-19    0               2        1981           11   \n3217   01-06-13    1               6        1991            3   \n3010   01-08-19    1               2        1990            0   \n12546  01-08-19    1               2        1990            3   \n\n       occupation_code  occupation_category_code  PCODE  \nID                                                       \n5384                19                         5     15  \n13834               19                         5     15  \n3217               185                         1     15  \n3010                82                         0     15  \n12546              157                         5     15  ",
      "text/html": "<div>\n<style scoped>\n    .dataframe tbody tr th:only-of-type {\n        vertical-align: middle;\n    }\n\n    .dataframe tbody tr th {\n        vertical-align: top;\n    }\n\n    .dataframe thead th {\n        text-align: right;\n    }\n</style>\n<table border=\"1\" class=\"dataframe\">\n  <thead>\n    <tr style=\"text-align: right;\">\n      <th></th>\n      <th>join_date</th>\n      <th>sex</th>\n      <th>marital_status</th>\n      <th>birth_year</th>\n      <th>branch_code</th>\n      <th>occupation_code</th>\n      <th>occupation_category_code</th>\n      <th>PCODE</th>\n    </tr>\n    <tr>\n      <th>ID</th>\n      <th></th>\n      <th></th>\n      <th></th>\n      <th></th>\n      <th></th>\n      <th></th>\n      <th></th>\n      <th></th>\n    </tr>\n  </thead>\n  <tbody>\n    <tr>\n      <th>5384</th>\n      <td>01-02-19</td>\n      <td>0</td>\n      <td>2</td>\n      <td>1987</td>\n      <td>0</td>\n      <td>19</td>\n      <td>5</td>\n      <td>15</td>\n    </tr>\n    <tr>\n      <th>13834</th>\n      <td>01-06-19</td>\n      <td>0</td>\n      <td>2</td>\n      <td>1981</td>\n      <td>11</td>\n      <td>19</td>\n      <td>5</td>\n      <td>15</td>\n    </tr>\n    <tr>\n      <th>3217</th>\n      <td>01-06-13</td>\n      <td>1</td>\n      <td>6</td>\n      <td>1991</td>\n      <td>3</td>\n      <td>185</td>\n      <td>1</td>\n      <td>15</td>\n    </tr>\n    <tr>\n      <th>3010</th>\n      <td>01-08-19</td>\n      <td>1</td>\n      <td>2</td>\n      <td>1990</td>\n      <td>0</td>\n      <td>82</td>\n      <td>0</td>\n      <td>15</td>\n    </tr>\n    <tr>\n      <th>12546</th>\n      <td>01-08-19</td>\n      <td>1</td>\n      <td>2</td>\n      <td>1990</td>\n      <td>3</td>\n      <td>157</td>\n      <td>5</td>\n      <td>15</td>\n    </tr>\n  </tbody>\n</table>\n</div>"
     },
     "metadata": {},
     "execution_count": 67
    }
   ],
   "source": [
    "final.head()"
   ]
  },
  {
   "cell_type": "code",
   "execution_count": 68,
   "metadata": {},
   "outputs": [
    {
     "output_type": "execute_result",
     "data": {
      "text/plain": "join_date                   132\nsex                           2\nmarital_status                8\nbirth_year                   61\nbranch_code                  15\noccupation_code             233\noccupation_category_code      6\nPCODE                        21\ndtype: int64"
     },
     "metadata": {},
     "execution_count": 68
    }
   ],
   "source": [
    "final.nunique()"
   ]
  },
  {
   "cell_type": "code",
   "execution_count": null,
   "metadata": {},
   "outputs": [],
   "source": []
  }
 ]
}