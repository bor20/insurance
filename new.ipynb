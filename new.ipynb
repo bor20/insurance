{
 "metadata": {
  "language_info": {
   "codemirror_mode": {
    "name": "ipython",
    "version": 3
   },
   "file_extension": ".py",
   "mimetype": "text/x-python",
   "name": "python",
   "nbconvert_exporter": "python",
   "pygments_lexer": "ipython3",
   "version": "3.7.6-final"
  },
  "orig_nbformat": 2,
  "kernelspec": {
   "name": "Python 3.7.6 64-bit ('base': conda)",
   "display_name": "Python 3.7.6 64-bit ('base': conda)",
   "metadata": {
    "interpreter": {
     "hash": "b2bbca7b25589987bc69e95430193d6372f81759d34e6ca1eac7aad3047d77e5"
    }
   }
  }
 },
 "nbformat": 4,
 "nbformat_minor": 2,
 "cells": [
  {
   "cell_type": "code",
   "execution_count": 5,
   "metadata": {},
   "outputs": [],
   "source": [
    "import pandas as pd\n",
    "import numpy as np"
   ]
  },
  {
   "cell_type": "code",
   "execution_count": 6,
   "metadata": {},
   "outputs": [
    {
     "output_type": "execute_result",
     "data": {
      "text/plain": "        ID join_date sex marital_status  birth_year branch_code  \\\n0  4WKQSBB  1/2/2019   F              M        1987        1X1H   \n1  CP5S02H  1/6/2019   F              M        1981        UAOD   \n2  2YKDILJ  1/6/2013   M              U        1991        748L   \n3  2S9E81J  1/8/2019   M              M        1990        1X1H   \n4  BHDYVFT  1/8/2019   M              M        1990        748L   \n\n  occupation_code occupation_category_code  P5DA  RIBP  ...  AHXO  BSTQ  FM3X  \\\n0            2A7I                     T4MS     0     0  ...     0     0     0   \n1            2A7I                     T4MS     0     0  ...     0     0     0   \n2            QZYX                     90QI     0     0  ...     0     0     0   \n3            BP09                     56SI     0     0  ...     0     0     0   \n4            NO3L                     T4MS     0     0  ...     0     0     0   \n\n   K6QO  QBOL  JWFN  JZ9D  J9JW  GHYX  ECY3  \n0     1     0     0     0     0     0     0  \n1     1     0     0     0     0     0     0  \n2     0     0     0     0     0     0     1  \n3     1     0     0     0     0     0     0  \n4     0     0     0     1     1     0     0  \n\n[5 rows x 29 columns]",
      "text/html": "<div>\n<style scoped>\n    .dataframe tbody tr th:only-of-type {\n        vertical-align: middle;\n    }\n\n    .dataframe tbody tr th {\n        vertical-align: top;\n    }\n\n    .dataframe thead th {\n        text-align: right;\n    }\n</style>\n<table border=\"1\" class=\"dataframe\">\n  <thead>\n    <tr style=\"text-align: right;\">\n      <th></th>\n      <th>ID</th>\n      <th>join_date</th>\n      <th>sex</th>\n      <th>marital_status</th>\n      <th>birth_year</th>\n      <th>branch_code</th>\n      <th>occupation_code</th>\n      <th>occupation_category_code</th>\n      <th>P5DA</th>\n      <th>RIBP</th>\n      <th>...</th>\n      <th>AHXO</th>\n      <th>BSTQ</th>\n      <th>FM3X</th>\n      <th>K6QO</th>\n      <th>QBOL</th>\n      <th>JWFN</th>\n      <th>JZ9D</th>\n      <th>J9JW</th>\n      <th>GHYX</th>\n      <th>ECY3</th>\n    </tr>\n  </thead>\n  <tbody>\n    <tr>\n      <th>0</th>\n      <td>4WKQSBB</td>\n      <td>1/2/2019</td>\n      <td>F</td>\n      <td>M</td>\n      <td>1987</td>\n      <td>1X1H</td>\n      <td>2A7I</td>\n      <td>T4MS</td>\n      <td>0</td>\n      <td>0</td>\n      <td>...</td>\n      <td>0</td>\n      <td>0</td>\n      <td>0</td>\n      <td>1</td>\n      <td>0</td>\n      <td>0</td>\n      <td>0</td>\n      <td>0</td>\n      <td>0</td>\n      <td>0</td>\n    </tr>\n    <tr>\n      <th>1</th>\n      <td>CP5S02H</td>\n      <td>1/6/2019</td>\n      <td>F</td>\n      <td>M</td>\n      <td>1981</td>\n      <td>UAOD</td>\n      <td>2A7I</td>\n      <td>T4MS</td>\n      <td>0</td>\n      <td>0</td>\n      <td>...</td>\n      <td>0</td>\n      <td>0</td>\n      <td>0</td>\n      <td>1</td>\n      <td>0</td>\n      <td>0</td>\n      <td>0</td>\n      <td>0</td>\n      <td>0</td>\n      <td>0</td>\n    </tr>\n    <tr>\n      <th>2</th>\n      <td>2YKDILJ</td>\n      <td>1/6/2013</td>\n      <td>M</td>\n      <td>U</td>\n      <td>1991</td>\n      <td>748L</td>\n      <td>QZYX</td>\n      <td>90QI</td>\n      <td>0</td>\n      <td>0</td>\n      <td>...</td>\n      <td>0</td>\n      <td>0</td>\n      <td>0</td>\n      <td>0</td>\n      <td>0</td>\n      <td>0</td>\n      <td>0</td>\n      <td>0</td>\n      <td>0</td>\n      <td>1</td>\n    </tr>\n    <tr>\n      <th>3</th>\n      <td>2S9E81J</td>\n      <td>1/8/2019</td>\n      <td>M</td>\n      <td>M</td>\n      <td>1990</td>\n      <td>1X1H</td>\n      <td>BP09</td>\n      <td>56SI</td>\n      <td>0</td>\n      <td>0</td>\n      <td>...</td>\n      <td>0</td>\n      <td>0</td>\n      <td>0</td>\n      <td>1</td>\n      <td>0</td>\n      <td>0</td>\n      <td>0</td>\n      <td>0</td>\n      <td>0</td>\n      <td>0</td>\n    </tr>\n    <tr>\n      <th>4</th>\n      <td>BHDYVFT</td>\n      <td>1/8/2019</td>\n      <td>M</td>\n      <td>M</td>\n      <td>1990</td>\n      <td>748L</td>\n      <td>NO3L</td>\n      <td>T4MS</td>\n      <td>0</td>\n      <td>0</td>\n      <td>...</td>\n      <td>0</td>\n      <td>0</td>\n      <td>0</td>\n      <td>0</td>\n      <td>0</td>\n      <td>0</td>\n      <td>1</td>\n      <td>1</td>\n      <td>0</td>\n      <td>0</td>\n    </tr>\n  </tbody>\n</table>\n<p>5 rows × 29 columns</p>\n</div>"
     },
     "metadata": {},
     "execution_count": 6
    }
   ],
   "source": [
    "data = pd.read_csv('Train.csv')\n",
    "test = pd.read_csv('Test.csv')\n",
    "sample = pd.read_csv('SampleSubmission.csv')\n",
    "data.head()"
   ]
  },
  {
   "cell_type": "code",
   "execution_count": 7,
   "metadata": {},
   "outputs": [
    {
     "output_type": "execute_result",
     "data": {
      "text/plain": "((29132, 29), (210000, 2), (10000, 29))"
     },
     "metadata": {},
     "execution_count": 7
    }
   ],
   "source": [
    "data.shape,sample.shape, test.shape"
   ]
  },
  {
   "cell_type": "code",
   "execution_count": 8,
   "metadata": {},
   "outputs": [
    {
     "output_type": "execute_result",
     "data": {
      "text/plain": "Index([&#39;ID&#39;, &#39;join_date&#39;, &#39;sex&#39;, &#39;marital_status&#39;, &#39;birth_year&#39;, &#39;branch_code&#39;,\n       &#39;occupation_code&#39;, &#39;occupation_category_code&#39;, &#39;P5DA&#39;, &#39;RIBP&#39;, &#39;8NN1&#39;,\n       &#39;7POT&#39;, &#39;66FJ&#39;, &#39;GYSR&#39;, &#39;SOP4&#39;, &#39;RVSZ&#39;, &#39;PYUQ&#39;, &#39;LJR9&#39;, &#39;N2MW&#39;, &#39;AHXO&#39;,\n       &#39;BSTQ&#39;, &#39;FM3X&#39;, &#39;K6QO&#39;, &#39;QBOL&#39;, &#39;JWFN&#39;, &#39;JZ9D&#39;, &#39;J9JW&#39;, &#39;GHYX&#39;, &#39;ECY3&#39;],\n      dtype=&#39;object&#39;)"
     },
     "metadata": {},
     "execution_count": 8
    }
   ],
   "source": [
    "data.columns"
   ]
  },
  {
   "cell_type": "code",
   "execution_count": 9,
   "metadata": {},
   "outputs": [],
   "source": [
    "products =data[['P5DA', 'RIBP', '8NN1',\n",
    "       '7POT', '66FJ', 'GYSR', 'SOP4', 'RVSZ', 'PYUQ', 'LJR9', 'N2MW', 'AHXO',\n",
    "       'BSTQ', 'FM3X', 'K6QO', 'QBOL', 'JWFN', 'JZ9D', 'J9JW', 'GHYX', 'ECY3']]\n",
    "products_t =test[['P5DA', 'RIBP', '8NN1',\n",
    "       '7POT', '66FJ', 'GYSR', 'SOP4', 'RVSZ', 'PYUQ', 'LJR9', 'N2MW', 'AHXO',\n",
    "       'BSTQ', 'FM3X', 'K6QO', 'QBOL', 'JWFN', 'JZ9D', 'J9JW', 'GHYX', 'ECY3']]"
   ]
  },
  {
   "cell_type": "code",
   "execution_count": 10,
   "metadata": {},
   "outputs": [
    {
     "output_type": "execute_result",
     "data": {
      "text/plain": "       ID X PCODE  Label\n0  F86J5PC X P5DA      0\n1  F86J5PC X RIBP      0\n2  F86J5PC X 8NN1      0\n3  F86J5PC X 7POT      0\n4  F86J5PC X 66FJ      0",
      "text/html": "<div>\n<style scoped>\n    .dataframe tbody tr th:only-of-type {\n        vertical-align: middle;\n    }\n\n    .dataframe tbody tr th {\n        vertical-align: top;\n    }\n\n    .dataframe thead th {\n        text-align: right;\n    }\n</style>\n<table border=\"1\" class=\"dataframe\">\n  <thead>\n    <tr style=\"text-align: right;\">\n      <th></th>\n      <th>ID X PCODE</th>\n      <th>Label</th>\n    </tr>\n  </thead>\n  <tbody>\n    <tr>\n      <th>0</th>\n      <td>F86J5PC X P5DA</td>\n      <td>0</td>\n    </tr>\n    <tr>\n      <th>1</th>\n      <td>F86J5PC X RIBP</td>\n      <td>0</td>\n    </tr>\n    <tr>\n      <th>2</th>\n      <td>F86J5PC X 8NN1</td>\n      <td>0</td>\n    </tr>\n    <tr>\n      <th>3</th>\n      <td>F86J5PC X 7POT</td>\n      <td>0</td>\n    </tr>\n    <tr>\n      <th>4</th>\n      <td>F86J5PC X 66FJ</td>\n      <td>0</td>\n    </tr>\n  </tbody>\n</table>\n</div>"
     },
     "metadata": {},
     "execution_count": 10
    }
   ],
   "source": [
    "sample.head()"
   ]
  },
  {
   "cell_type": "code",
   "execution_count": 11,
   "metadata": {},
   "outputs": [
    {
     "output_type": "execute_result",
     "data": {
      "text/plain": "array([&#39;1X1H&#39;, &#39;UAOD&#39;, &#39;748L&#39;, &#39;E5SW&#39;, &#39;XX25&#39;, &#39;ZFER&#39;, &#39;30H5&#39;, &#39;9F9T&#39;,\n       &#39;O67J&#39;, &#39;94KC&#39;, &#39;49BM&#39;, &#39;BOAS&#39;, &#39;X23B&#39;, &#39;EU3L&#39;, &#39;O4JC&#39;],\n      dtype=object)"
     },
     "metadata": {},
     "execution_count": 11
    }
   ],
   "source": [
    "data['branch_code'].unique()"
   ]
  },
  {
   "cell_type": "code",
   "execution_count": 12,
   "metadata": {},
   "outputs": [
    {
     "output_type": "execute_result",
     "data": {
      "text/plain": "   P5DA  RIBP  8NN1  7POT  66FJ  GYSR  SOP4  RVSZ  PYUQ  LJR9  ...  AHXO  \\\n0     0     0     0     0     0     0     0     1     0     0  ...     0   \n1     0     0     0     0     0     0     0     1     0     0  ...     0   \n2     0     0     0     0     0     0     1     1     0     0  ...     0   \n3     0     0     0     0     0     0     0     1     0     0  ...     0   \n4     0     0     0     0     0     0     0     0     0     0  ...     0   \n\n   BSTQ  FM3X  K6QO  QBOL  JWFN  JZ9D  J9JW  GHYX  ECY3  \n0     0     0     1     0     0     0     0     0     0  \n1     0     0     1     0     0     0     0     0     0  \n2     0     0     0     0     0     0     0     0     1  \n3     0     0     1     0     0     0     0     0     0  \n4     0     0     0     0     0     1     1     0     0  \n\n[5 rows x 21 columns]",
      "text/html": "<div>\n<style scoped>\n    .dataframe tbody tr th:only-of-type {\n        vertical-align: middle;\n    }\n\n    .dataframe tbody tr th {\n        vertical-align: top;\n    }\n\n    .dataframe thead th {\n        text-align: right;\n    }\n</style>\n<table border=\"1\" class=\"dataframe\">\n  <thead>\n    <tr style=\"text-align: right;\">\n      <th></th>\n      <th>P5DA</th>\n      <th>RIBP</th>\n      <th>8NN1</th>\n      <th>7POT</th>\n      <th>66FJ</th>\n      <th>GYSR</th>\n      <th>SOP4</th>\n      <th>RVSZ</th>\n      <th>PYUQ</th>\n      <th>LJR9</th>\n      <th>...</th>\n      <th>AHXO</th>\n      <th>BSTQ</th>\n      <th>FM3X</th>\n      <th>K6QO</th>\n      <th>QBOL</th>\n      <th>JWFN</th>\n      <th>JZ9D</th>\n      <th>J9JW</th>\n      <th>GHYX</th>\n      <th>ECY3</th>\n    </tr>\n  </thead>\n  <tbody>\n    <tr>\n      <th>0</th>\n      <td>0</td>\n      <td>0</td>\n      <td>0</td>\n      <td>0</td>\n      <td>0</td>\n      <td>0</td>\n      <td>0</td>\n      <td>1</td>\n      <td>0</td>\n      <td>0</td>\n      <td>...</td>\n      <td>0</td>\n      <td>0</td>\n      <td>0</td>\n      <td>1</td>\n      <td>0</td>\n      <td>0</td>\n      <td>0</td>\n      <td>0</td>\n      <td>0</td>\n      <td>0</td>\n    </tr>\n    <tr>\n      <th>1</th>\n      <td>0</td>\n      <td>0</td>\n      <td>0</td>\n      <td>0</td>\n      <td>0</td>\n      <td>0</td>\n      <td>0</td>\n      <td>1</td>\n      <td>0</td>\n      <td>0</td>\n      <td>...</td>\n      <td>0</td>\n      <td>0</td>\n      <td>0</td>\n      <td>1</td>\n      <td>0</td>\n      <td>0</td>\n      <td>0</td>\n      <td>0</td>\n      <td>0</td>\n      <td>0</td>\n    </tr>\n    <tr>\n      <th>2</th>\n      <td>0</td>\n      <td>0</td>\n      <td>0</td>\n      <td>0</td>\n      <td>0</td>\n      <td>0</td>\n      <td>1</td>\n      <td>1</td>\n      <td>0</td>\n      <td>0</td>\n      <td>...</td>\n      <td>0</td>\n      <td>0</td>\n      <td>0</td>\n      <td>0</td>\n      <td>0</td>\n      <td>0</td>\n      <td>0</td>\n      <td>0</td>\n      <td>0</td>\n      <td>1</td>\n    </tr>\n    <tr>\n      <th>3</th>\n      <td>0</td>\n      <td>0</td>\n      <td>0</td>\n      <td>0</td>\n      <td>0</td>\n      <td>0</td>\n      <td>0</td>\n      <td>1</td>\n      <td>0</td>\n      <td>0</td>\n      <td>...</td>\n      <td>0</td>\n      <td>0</td>\n      <td>0</td>\n      <td>1</td>\n      <td>0</td>\n      <td>0</td>\n      <td>0</td>\n      <td>0</td>\n      <td>0</td>\n      <td>0</td>\n    </tr>\n    <tr>\n      <th>4</th>\n      <td>0</td>\n      <td>0</td>\n      <td>0</td>\n      <td>0</td>\n      <td>0</td>\n      <td>0</td>\n      <td>0</td>\n      <td>0</td>\n      <td>0</td>\n      <td>0</td>\n      <td>...</td>\n      <td>0</td>\n      <td>0</td>\n      <td>0</td>\n      <td>0</td>\n      <td>0</td>\n      <td>0</td>\n      <td>1</td>\n      <td>1</td>\n      <td>0</td>\n      <td>0</td>\n    </tr>\n  </tbody>\n</table>\n<p>5 rows × 21 columns</p>\n</div>"
     },
     "metadata": {},
     "execution_count": 12
    }
   ],
   "source": [
    "products.head()"
   ]
  },
  {
   "cell_type": "code",
   "execution_count": 13,
   "metadata": {},
   "outputs": [
    {
     "output_type": "execute_result",
     "data": {
      "text/plain": "   P5DA  RIBP  8NN1  7POT  66FJ  GYSR  SOP4  RVSZ  PYUQ  LJR9  ...  AHXO  \\\n0     0     0     0     0     0     0     0     1     0     0  ...     0   \n1     0     0     0     0     0     0     0     1     0     0  ...     0   \n2     0     0     0     0     0     0     0     1     0     0  ...     0   \n3     0     0     0     0     0     0     0     1     0     0  ...     0   \n4     0     0     0     0     0     0     0     0     0     0  ...     0   \n\n   BSTQ  FM3X  K6QO  QBOL  JWFN  JZ9D  J9JW  GHYX  ECY3  \n0     0     0     0     0     0     0     0     0     0  \n1     0     0     1     0     0     0     0     0     0  \n2     0     0     1     0     0     0     0     0     0  \n3     0     0     0     0     0     0     0     0     0  \n4     0     0     0     0     0     1     0     0     0  \n\n[5 rows x 21 columns]",
      "text/html": "<div>\n<style scoped>\n    .dataframe tbody tr th:only-of-type {\n        vertical-align: middle;\n    }\n\n    .dataframe tbody tr th {\n        vertical-align: top;\n    }\n\n    .dataframe thead th {\n        text-align: right;\n    }\n</style>\n<table border=\"1\" class=\"dataframe\">\n  <thead>\n    <tr style=\"text-align: right;\">\n      <th></th>\n      <th>P5DA</th>\n      <th>RIBP</th>\n      <th>8NN1</th>\n      <th>7POT</th>\n      <th>66FJ</th>\n      <th>GYSR</th>\n      <th>SOP4</th>\n      <th>RVSZ</th>\n      <th>PYUQ</th>\n      <th>LJR9</th>\n      <th>...</th>\n      <th>AHXO</th>\n      <th>BSTQ</th>\n      <th>FM3X</th>\n      <th>K6QO</th>\n      <th>QBOL</th>\n      <th>JWFN</th>\n      <th>JZ9D</th>\n      <th>J9JW</th>\n      <th>GHYX</th>\n      <th>ECY3</th>\n    </tr>\n  </thead>\n  <tbody>\n    <tr>\n      <th>0</th>\n      <td>0</td>\n      <td>0</td>\n      <td>0</td>\n      <td>0</td>\n      <td>0</td>\n      <td>0</td>\n      <td>0</td>\n      <td>1</td>\n      <td>0</td>\n      <td>0</td>\n      <td>...</td>\n      <td>0</td>\n      <td>0</td>\n      <td>0</td>\n      <td>0</td>\n      <td>0</td>\n      <td>0</td>\n      <td>0</td>\n      <td>0</td>\n      <td>0</td>\n      <td>0</td>\n    </tr>\n    <tr>\n      <th>1</th>\n      <td>0</td>\n      <td>0</td>\n      <td>0</td>\n      <td>0</td>\n      <td>0</td>\n      <td>0</td>\n      <td>0</td>\n      <td>1</td>\n      <td>0</td>\n      <td>0</td>\n      <td>...</td>\n      <td>0</td>\n      <td>0</td>\n      <td>0</td>\n      <td>1</td>\n      <td>0</td>\n      <td>0</td>\n      <td>0</td>\n      <td>0</td>\n      <td>0</td>\n      <td>0</td>\n    </tr>\n    <tr>\n      <th>2</th>\n      <td>0</td>\n      <td>0</td>\n      <td>0</td>\n      <td>0</td>\n      <td>0</td>\n      <td>0</td>\n      <td>0</td>\n      <td>1</td>\n      <td>0</td>\n      <td>0</td>\n      <td>...</td>\n      <td>0</td>\n      <td>0</td>\n      <td>0</td>\n      <td>1</td>\n      <td>0</td>\n      <td>0</td>\n      <td>0</td>\n      <td>0</td>\n      <td>0</td>\n      <td>0</td>\n    </tr>\n    <tr>\n      <th>3</th>\n      <td>0</td>\n      <td>0</td>\n      <td>0</td>\n      <td>0</td>\n      <td>0</td>\n      <td>0</td>\n      <td>0</td>\n      <td>1</td>\n      <td>0</td>\n      <td>0</td>\n      <td>...</td>\n      <td>0</td>\n      <td>0</td>\n      <td>0</td>\n      <td>0</td>\n      <td>0</td>\n      <td>0</td>\n      <td>0</td>\n      <td>0</td>\n      <td>0</td>\n      <td>0</td>\n    </tr>\n    <tr>\n      <th>4</th>\n      <td>0</td>\n      <td>0</td>\n      <td>0</td>\n      <td>0</td>\n      <td>0</td>\n      <td>0</td>\n      <td>0</td>\n      <td>0</td>\n      <td>0</td>\n      <td>0</td>\n      <td>...</td>\n      <td>0</td>\n      <td>0</td>\n      <td>0</td>\n      <td>0</td>\n      <td>0</td>\n      <td>0</td>\n      <td>1</td>\n      <td>0</td>\n      <td>0</td>\n      <td>0</td>\n    </tr>\n  </tbody>\n</table>\n<p>5 rows × 21 columns</p>\n</div>"
     },
     "metadata": {},
     "execution_count": 13
    }
   ],
   "source": [
    "products_t.head()"
   ]
  },
  {
   "cell_type": "code",
   "execution_count": 14,
   "metadata": {},
   "outputs": [],
   "source": [
    "#Axis Transformation\n",
    "data = data.melt(id_vars=data.columns[:8], value_vars=products, var_name = \"PCODE\", value_name=\"Label\" )\n",
    "test = test.melt(id_vars=test.columns[:8], value_vars=products, var_name = \"PCODE\", value_name=\"Label\" )"
   ]
  },
  {
   "cell_type": "code",
   "execution_count": 15,
   "metadata": {},
   "outputs": [
    {
     "output_type": "execute_result",
     "data": {
      "text/plain": "        ID join_date sex marital_status  birth_year branch_code  \\\n0  4WKQSBB  1/2/2019   F              M        1987        1X1H   \n1  CP5S02H  1/6/2019   F              M        1981        UAOD   \n2  2YKDILJ  1/6/2013   M              U        1991        748L   \n3  2S9E81J  1/8/2019   M              M        1990        1X1H   \n4  BHDYVFT  1/8/2019   M              M        1990        748L   \n\n  occupation_code occupation_category_code PCODE  Label  \n0            2A7I                     T4MS  P5DA      0  \n1            2A7I                     T4MS  P5DA      0  \n2            QZYX                     90QI  P5DA      0  \n3            BP09                     56SI  P5DA      0  \n4            NO3L                     T4MS  P5DA      0  ",
      "text/html": "<div>\n<style scoped>\n    .dataframe tbody tr th:only-of-type {\n        vertical-align: middle;\n    }\n\n    .dataframe tbody tr th {\n        vertical-align: top;\n    }\n\n    .dataframe thead th {\n        text-align: right;\n    }\n</style>\n<table border=\"1\" class=\"dataframe\">\n  <thead>\n    <tr style=\"text-align: right;\">\n      <th></th>\n      <th>ID</th>\n      <th>join_date</th>\n      <th>sex</th>\n      <th>marital_status</th>\n      <th>birth_year</th>\n      <th>branch_code</th>\n      <th>occupation_code</th>\n      <th>occupation_category_code</th>\n      <th>PCODE</th>\n      <th>Label</th>\n    </tr>\n  </thead>\n  <tbody>\n    <tr>\n      <th>0</th>\n      <td>4WKQSBB</td>\n      <td>1/2/2019</td>\n      <td>F</td>\n      <td>M</td>\n      <td>1987</td>\n      <td>1X1H</td>\n      <td>2A7I</td>\n      <td>T4MS</td>\n      <td>P5DA</td>\n      <td>0</td>\n    </tr>\n    <tr>\n      <th>1</th>\n      <td>CP5S02H</td>\n      <td>1/6/2019</td>\n      <td>F</td>\n      <td>M</td>\n      <td>1981</td>\n      <td>UAOD</td>\n      <td>2A7I</td>\n      <td>T4MS</td>\n      <td>P5DA</td>\n      <td>0</td>\n    </tr>\n    <tr>\n      <th>2</th>\n      <td>2YKDILJ</td>\n      <td>1/6/2013</td>\n      <td>M</td>\n      <td>U</td>\n      <td>1991</td>\n      <td>748L</td>\n      <td>QZYX</td>\n      <td>90QI</td>\n      <td>P5DA</td>\n      <td>0</td>\n    </tr>\n    <tr>\n      <th>3</th>\n      <td>2S9E81J</td>\n      <td>1/8/2019</td>\n      <td>M</td>\n      <td>M</td>\n      <td>1990</td>\n      <td>1X1H</td>\n      <td>BP09</td>\n      <td>56SI</td>\n      <td>P5DA</td>\n      <td>0</td>\n    </tr>\n    <tr>\n      <th>4</th>\n      <td>BHDYVFT</td>\n      <td>1/8/2019</td>\n      <td>M</td>\n      <td>M</td>\n      <td>1990</td>\n      <td>748L</td>\n      <td>NO3L</td>\n      <td>T4MS</td>\n      <td>P5DA</td>\n      <td>0</td>\n    </tr>\n  </tbody>\n</table>\n</div>"
     },
     "metadata": {},
     "execution_count": 15
    }
   ],
   "source": [
    "data.head()"
   ]
  },
  {
   "cell_type": "code",
   "execution_count": 16,
   "metadata": {},
   "outputs": [],
   "source": [
    "#A merger\n",
    "data['combiner']='x'"
   ]
  },
  {
   "cell_type": "code",
   "execution_count": 17,
   "metadata": {},
   "outputs": [],
   "source": [
    "#Set\n",
    "Data=pd.concat([data,test],sort=False).reset_index(drop=True)"
   ]
  },
  {
   "cell_type": "code",
   "execution_count": 18,
   "metadata": {},
   "outputs": [
    {
     "output_type": "execute_result",
     "data": {
      "text/plain": "        ID join_date sex marital_status  birth_year branch_code  \\\n0  4WKQSBB  1/2/2019   F              M        1987        1X1H   \n1  CP5S02H  1/6/2019   F              M        1981        UAOD   \n2  2YKDILJ  1/6/2013   M              U        1991        748L   \n\n  occupation_code occupation_category_code PCODE  Label combiner  \n0            2A7I                     T4MS  P5DA      0        x  \n1            2A7I                     T4MS  P5DA      0        x  \n2            QZYX                     90QI  P5DA      0        x  ",
      "text/html": "<div>\n<style scoped>\n    .dataframe tbody tr th:only-of-type {\n        vertical-align: middle;\n    }\n\n    .dataframe tbody tr th {\n        vertical-align: top;\n    }\n\n    .dataframe thead th {\n        text-align: right;\n    }\n</style>\n<table border=\"1\" class=\"dataframe\">\n  <thead>\n    <tr style=\"text-align: right;\">\n      <th></th>\n      <th>ID</th>\n      <th>join_date</th>\n      <th>sex</th>\n      <th>marital_status</th>\n      <th>birth_year</th>\n      <th>branch_code</th>\n      <th>occupation_code</th>\n      <th>occupation_category_code</th>\n      <th>PCODE</th>\n      <th>Label</th>\n      <th>combiner</th>\n    </tr>\n  </thead>\n  <tbody>\n    <tr>\n      <th>0</th>\n      <td>4WKQSBB</td>\n      <td>1/2/2019</td>\n      <td>F</td>\n      <td>M</td>\n      <td>1987</td>\n      <td>1X1H</td>\n      <td>2A7I</td>\n      <td>T4MS</td>\n      <td>P5DA</td>\n      <td>0</td>\n      <td>x</td>\n    </tr>\n    <tr>\n      <th>1</th>\n      <td>CP5S02H</td>\n      <td>1/6/2019</td>\n      <td>F</td>\n      <td>M</td>\n      <td>1981</td>\n      <td>UAOD</td>\n      <td>2A7I</td>\n      <td>T4MS</td>\n      <td>P5DA</td>\n      <td>0</td>\n      <td>x</td>\n    </tr>\n    <tr>\n      <th>2</th>\n      <td>2YKDILJ</td>\n      <td>1/6/2013</td>\n      <td>M</td>\n      <td>U</td>\n      <td>1991</td>\n      <td>748L</td>\n      <td>QZYX</td>\n      <td>90QI</td>\n      <td>P5DA</td>\n      <td>0</td>\n      <td>x</td>\n    </tr>\n  </tbody>\n</table>\n</div>"
     },
     "metadata": {},
     "execution_count": 18
    }
   ],
   "source": [
    "Data.head(3)"
   ]
  },
  {
   "cell_type": "code",
   "execution_count": 19,
   "metadata": {},
   "outputs": [],
   "source": [
    "from datetime import date\n",
    "today = date.today()\n",
    "today = today.strftime(\"%d/%m/%Y\")"
   ]
  },
  {
   "cell_type": "code",
   "execution_count": 20,
   "metadata": {},
   "outputs": [],
   "source": [
    "Data['today'] = today"
   ]
  },
  {
   "cell_type": "code",
   "execution_count": 21,
   "metadata": {},
   "outputs": [
    {
     "output_type": "execute_result",
     "data": {
      "text/plain": "        ID join_date sex marital_status  birth_year branch_code  \\\n0  4WKQSBB  1/2/2019   F              M        1987        1X1H   \n1  CP5S02H  1/6/2019   F              M        1981        UAOD   \n2  2YKDILJ  1/6/2013   M              U        1991        748L   \n\n  occupation_code occupation_category_code PCODE  Label combiner       today  \n0            2A7I                     T4MS  P5DA      0        x  08/10/2020  \n1            2A7I                     T4MS  P5DA      0        x  08/10/2020  \n2            QZYX                     90QI  P5DA      0        x  08/10/2020  ",
      "text/html": "<div>\n<style scoped>\n    .dataframe tbody tr th:only-of-type {\n        vertical-align: middle;\n    }\n\n    .dataframe tbody tr th {\n        vertical-align: top;\n    }\n\n    .dataframe thead th {\n        text-align: right;\n    }\n</style>\n<table border=\"1\" class=\"dataframe\">\n  <thead>\n    <tr style=\"text-align: right;\">\n      <th></th>\n      <th>ID</th>\n      <th>join_date</th>\n      <th>sex</th>\n      <th>marital_status</th>\n      <th>birth_year</th>\n      <th>branch_code</th>\n      <th>occupation_code</th>\n      <th>occupation_category_code</th>\n      <th>PCODE</th>\n      <th>Label</th>\n      <th>combiner</th>\n      <th>today</th>\n    </tr>\n  </thead>\n  <tbody>\n    <tr>\n      <th>0</th>\n      <td>4WKQSBB</td>\n      <td>1/2/2019</td>\n      <td>F</td>\n      <td>M</td>\n      <td>1987</td>\n      <td>1X1H</td>\n      <td>2A7I</td>\n      <td>T4MS</td>\n      <td>P5DA</td>\n      <td>0</td>\n      <td>x</td>\n      <td>08/10/2020</td>\n    </tr>\n    <tr>\n      <th>1</th>\n      <td>CP5S02H</td>\n      <td>1/6/2019</td>\n      <td>F</td>\n      <td>M</td>\n      <td>1981</td>\n      <td>UAOD</td>\n      <td>2A7I</td>\n      <td>T4MS</td>\n      <td>P5DA</td>\n      <td>0</td>\n      <td>x</td>\n      <td>08/10/2020</td>\n    </tr>\n    <tr>\n      <th>2</th>\n      <td>2YKDILJ</td>\n      <td>1/6/2013</td>\n      <td>M</td>\n      <td>U</td>\n      <td>1991</td>\n      <td>748L</td>\n      <td>QZYX</td>\n      <td>90QI</td>\n      <td>P5DA</td>\n      <td>0</td>\n      <td>x</td>\n      <td>08/10/2020</td>\n    </tr>\n  </tbody>\n</table>\n</div>"
     },
     "metadata": {},
     "execution_count": 21
    }
   ],
   "source": [
    "Data.head(3)"
   ]
  },
  {
   "cell_type": "code",
   "execution_count": 22,
   "metadata": {
    "tags": []
   },
   "outputs": [
    {
     "output_type": "stream",
     "name": "stdout",
     "text": "====================================\nTRAIN LABEL DISTRIBUTION\n====================================\n0    545419\n1     66353\nName: Label, dtype: int64\n====================================\nTEST LABEL DISTRIBUTION\n====================================\n0    197147\n1     12853\nName: Label, dtype: int64\n====================================\nSAMPLE SUBMISSION LABEL DISTRIBUTION\n====================================\n0    197147\n1     12853\nName: Label, dtype: int64\n"
    }
   ],
   "source": [
    "#Confirm Distribution (TEST AND SAMPLE SUBMISSION FILE)\n",
    "print('==' * 18);print('TRAIN LABEL DISTRIBUTION');print('==' * 18);print(data['Label'].value_counts())\n",
    "print('==' * 18);print('TEST LABEL DISTRIBUTION');print('==' * 18);print(test['Label'].value_counts())\n",
    "print('==' * 18);print('SAMPLE SUBMISSION LABEL DISTRIBUTION');print('==' * 18);print(sample['Label'].value_counts())"
   ]
  },
  {
   "cell_type": "code",
   "execution_count": 23,
   "metadata": {},
   "outputs": [
    {
     "output_type": "execute_result",
     "data": {
      "text/plain": "        ID join_date sex marital_status  birth_year branch_code  \\\n0  4WKQSBB  1/2/2019   F              M        1987        1X1H   \n1  CP5S02H  1/6/2019   F              M        1981        UAOD   \n2  2YKDILJ  1/6/2013   M              U        1991        748L   \n3  2S9E81J  1/8/2019   M              M        1990        1X1H   \n4  BHDYVFT  1/8/2019   M              M        1990        748L   \n\n  occupation_code occupation_category_code PCODE  Label combiner  \n0            2A7I                     T4MS  P5DA      0        x  \n1            2A7I                     T4MS  P5DA      0        x  \n2            QZYX                     90QI  P5DA      0        x  \n3            BP09                     56SI  P5DA      0        x  \n4            NO3L                     T4MS  P5DA      0        x  ",
      "text/html": "<div>\n<style scoped>\n    .dataframe tbody tr th:only-of-type {\n        vertical-align: middle;\n    }\n\n    .dataframe tbody tr th {\n        vertical-align: top;\n    }\n\n    .dataframe thead th {\n        text-align: right;\n    }\n</style>\n<table border=\"1\" class=\"dataframe\">\n  <thead>\n    <tr style=\"text-align: right;\">\n      <th></th>\n      <th>ID</th>\n      <th>join_date</th>\n      <th>sex</th>\n      <th>marital_status</th>\n      <th>birth_year</th>\n      <th>branch_code</th>\n      <th>occupation_code</th>\n      <th>occupation_category_code</th>\n      <th>PCODE</th>\n      <th>Label</th>\n      <th>combiner</th>\n    </tr>\n  </thead>\n  <tbody>\n    <tr>\n      <th>0</th>\n      <td>4WKQSBB</td>\n      <td>1/2/2019</td>\n      <td>F</td>\n      <td>M</td>\n      <td>1987</td>\n      <td>1X1H</td>\n      <td>2A7I</td>\n      <td>T4MS</td>\n      <td>P5DA</td>\n      <td>0</td>\n      <td>x</td>\n    </tr>\n    <tr>\n      <th>1</th>\n      <td>CP5S02H</td>\n      <td>1/6/2019</td>\n      <td>F</td>\n      <td>M</td>\n      <td>1981</td>\n      <td>UAOD</td>\n      <td>2A7I</td>\n      <td>T4MS</td>\n      <td>P5DA</td>\n      <td>0</td>\n      <td>x</td>\n    </tr>\n    <tr>\n      <th>2</th>\n      <td>2YKDILJ</td>\n      <td>1/6/2013</td>\n      <td>M</td>\n      <td>U</td>\n      <td>1991</td>\n      <td>748L</td>\n      <td>QZYX</td>\n      <td>90QI</td>\n      <td>P5DA</td>\n      <td>0</td>\n      <td>x</td>\n    </tr>\n    <tr>\n      <th>3</th>\n      <td>2S9E81J</td>\n      <td>1/8/2019</td>\n      <td>M</td>\n      <td>M</td>\n      <td>1990</td>\n      <td>1X1H</td>\n      <td>BP09</td>\n      <td>56SI</td>\n      <td>P5DA</td>\n      <td>0</td>\n      <td>x</td>\n    </tr>\n    <tr>\n      <th>4</th>\n      <td>BHDYVFT</td>\n      <td>1/8/2019</td>\n      <td>M</td>\n      <td>M</td>\n      <td>1990</td>\n      <td>748L</td>\n      <td>NO3L</td>\n      <td>T4MS</td>\n      <td>P5DA</td>\n      <td>0</td>\n      <td>x</td>\n    </tr>\n  </tbody>\n</table>\n</div>"
     },
     "metadata": {},
     "execution_count": 23
    }
   ],
   "source": [
    "data.head()"
   ]
  },
  {
   "cell_type": "code",
   "execution_count": 24,
   "metadata": {},
   "outputs": [
    {
     "output_type": "execute_result",
     "data": {
      "text/plain": "        ID join_date sex marital_status  birth_year branch_code  \\\n0  4WKQSBB  1/2/2019   F              M        1987        1X1H   \n1  CP5S02H  1/6/2019   F              M        1981        UAOD   \n2  2YKDILJ  1/6/2013   M              U        1991        748L   \n3  2S9E81J  1/8/2019   M              M        1990        1X1H   \n4  BHDYVFT  1/8/2019   M              M        1990        748L   \n\n  occupation_code occupation_category_code PCODE  Label combiner       today  \n0            2A7I                     T4MS  P5DA      0        x  08/10/2020  \n1            2A7I                     T4MS  P5DA      0        x  08/10/2020  \n2            QZYX                     90QI  P5DA      0        x  08/10/2020  \n3            BP09                     56SI  P5DA      0        x  08/10/2020  \n4            NO3L                     T4MS  P5DA      0        x  08/10/2020  ",
      "text/html": "<div>\n<style scoped>\n    .dataframe tbody tr th:only-of-type {\n        vertical-align: middle;\n    }\n\n    .dataframe tbody tr th {\n        vertical-align: top;\n    }\n\n    .dataframe thead th {\n        text-align: right;\n    }\n</style>\n<table border=\"1\" class=\"dataframe\">\n  <thead>\n    <tr style=\"text-align: right;\">\n      <th></th>\n      <th>ID</th>\n      <th>join_date</th>\n      <th>sex</th>\n      <th>marital_status</th>\n      <th>birth_year</th>\n      <th>branch_code</th>\n      <th>occupation_code</th>\n      <th>occupation_category_code</th>\n      <th>PCODE</th>\n      <th>Label</th>\n      <th>combiner</th>\n      <th>today</th>\n    </tr>\n  </thead>\n  <tbody>\n    <tr>\n      <th>0</th>\n      <td>4WKQSBB</td>\n      <td>1/2/2019</td>\n      <td>F</td>\n      <td>M</td>\n      <td>1987</td>\n      <td>1X1H</td>\n      <td>2A7I</td>\n      <td>T4MS</td>\n      <td>P5DA</td>\n      <td>0</td>\n      <td>x</td>\n      <td>08/10/2020</td>\n    </tr>\n    <tr>\n      <th>1</th>\n      <td>CP5S02H</td>\n      <td>1/6/2019</td>\n      <td>F</td>\n      <td>M</td>\n      <td>1981</td>\n      <td>UAOD</td>\n      <td>2A7I</td>\n      <td>T4MS</td>\n      <td>P5DA</td>\n      <td>0</td>\n      <td>x</td>\n      <td>08/10/2020</td>\n    </tr>\n    <tr>\n      <th>2</th>\n      <td>2YKDILJ</td>\n      <td>1/6/2013</td>\n      <td>M</td>\n      <td>U</td>\n      <td>1991</td>\n      <td>748L</td>\n      <td>QZYX</td>\n      <td>90QI</td>\n      <td>P5DA</td>\n      <td>0</td>\n      <td>x</td>\n      <td>08/10/2020</td>\n    </tr>\n    <tr>\n      <th>3</th>\n      <td>2S9E81J</td>\n      <td>1/8/2019</td>\n      <td>M</td>\n      <td>M</td>\n      <td>1990</td>\n      <td>1X1H</td>\n      <td>BP09</td>\n      <td>56SI</td>\n      <td>P5DA</td>\n      <td>0</td>\n      <td>x</td>\n      <td>08/10/2020</td>\n    </tr>\n    <tr>\n      <th>4</th>\n      <td>BHDYVFT</td>\n      <td>1/8/2019</td>\n      <td>M</td>\n      <td>M</td>\n      <td>1990</td>\n      <td>748L</td>\n      <td>NO3L</td>\n      <td>T4MS</td>\n      <td>P5DA</td>\n      <td>0</td>\n      <td>x</td>\n      <td>08/10/2020</td>\n    </tr>\n  </tbody>\n</table>\n</div>"
     },
     "metadata": {},
     "execution_count": 24
    }
   ],
   "source": [
    "Data.head()"
   ]
  },
  {
   "cell_type": "code",
   "execution_count": null,
   "metadata": {},
   "outputs": [],
   "source": []
  }
 ]
}