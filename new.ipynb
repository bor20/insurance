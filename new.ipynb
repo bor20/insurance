{
 "metadata": {
  "language_info": {
   "codemirror_mode": {
    "name": "ipython",
    "version": 3
   },
   "file_extension": ".py",
   "mimetype": "text/x-python",
   "name": "python",
   "nbconvert_exporter": "python",
   "pygments_lexer": "ipython3",
   "version": "3.7.6-final"
  },
  "orig_nbformat": 2,
  "kernelspec": {
   "name": "python_defaultSpec_1601815907893",
   "display_name": "Python 3.7.6 64-bit ('base': conda)",
   "metadata": {
    "interpreter": {
     "hash": "37c139f5431107e422e5affdb96566cc7bc4291c0219fcb5b31015c986fd2290"
    }
   }
  }
 },
 "nbformat": 4,
 "nbformat_minor": 2,
 "cells": [
  {
   "cell_type": "code",
   "execution_count": 2,
   "metadata": {},
   "outputs": [],
   "source": [
    "import pandas as pd\n",
    "import numpy as np"
   ]
  },
  {
   "cell_type": "code",
   "execution_count": 31,
   "metadata": {},
   "outputs": [
    {
     "output_type": "execute_result",
     "data": {
      "text/plain": "        ID join_date sex marital_status  birth_year branch_code  \\\n0  4WKQSBB  1/2/2019   F              M        1987        1X1H   \n1  CP5S02H  1/6/2019   F              M        1981        UAOD   \n2  2YKDILJ  1/6/2013   M              U        1991        748L   \n3  2S9E81J  1/8/2019   M              M        1990        1X1H   \n4  BHDYVFT  1/8/2019   M              M        1990        748L   \n\n  occupation_code occupation_category_code  P5DA  RIBP  ...  AHXO  BSTQ  FM3X  \\\n0            2A7I                     T4MS     0     0  ...     0     0     0   \n1            2A7I                     T4MS     0     0  ...     0     0     0   \n2            QZYX                     90QI     0     0  ...     0     0     0   \n3            BP09                     56SI     0     0  ...     0     0     0   \n4            NO3L                     T4MS     0     0  ...     0     0     0   \n\n   K6QO  QBOL  JWFN  JZ9D  J9JW  GHYX  ECY3  \n0     1     0     0     0     0     0     0  \n1     1     0     0     0     0     0     0  \n2     0     0     0     0     0     0     1  \n3     1     0     0     0     0     0     0  \n4     0     0     0     1     1     0     0  \n\n[5 rows x 29 columns]",
      "text/html": "<div>\n<style scoped>\n    .dataframe tbody tr th:only-of-type {\n        vertical-align: middle;\n    }\n\n    .dataframe tbody tr th {\n        vertical-align: top;\n    }\n\n    .dataframe thead th {\n        text-align: right;\n    }\n</style>\n<table border=\"1\" class=\"dataframe\">\n  <thead>\n    <tr style=\"text-align: right;\">\n      <th></th>\n      <th>ID</th>\n      <th>join_date</th>\n      <th>sex</th>\n      <th>marital_status</th>\n      <th>birth_year</th>\n      <th>branch_code</th>\n      <th>occupation_code</th>\n      <th>occupation_category_code</th>\n      <th>P5DA</th>\n      <th>RIBP</th>\n      <th>...</th>\n      <th>AHXO</th>\n      <th>BSTQ</th>\n      <th>FM3X</th>\n      <th>K6QO</th>\n      <th>QBOL</th>\n      <th>JWFN</th>\n      <th>JZ9D</th>\n      <th>J9JW</th>\n      <th>GHYX</th>\n      <th>ECY3</th>\n    </tr>\n  </thead>\n  <tbody>\n    <tr>\n      <th>0</th>\n      <td>4WKQSBB</td>\n      <td>1/2/2019</td>\n      <td>F</td>\n      <td>M</td>\n      <td>1987</td>\n      <td>1X1H</td>\n      <td>2A7I</td>\n      <td>T4MS</td>\n      <td>0</td>\n      <td>0</td>\n      <td>...</td>\n      <td>0</td>\n      <td>0</td>\n      <td>0</td>\n      <td>1</td>\n      <td>0</td>\n      <td>0</td>\n      <td>0</td>\n      <td>0</td>\n      <td>0</td>\n      <td>0</td>\n    </tr>\n    <tr>\n      <th>1</th>\n      <td>CP5S02H</td>\n      <td>1/6/2019</td>\n      <td>F</td>\n      <td>M</td>\n      <td>1981</td>\n      <td>UAOD</td>\n      <td>2A7I</td>\n      <td>T4MS</td>\n      <td>0</td>\n      <td>0</td>\n      <td>...</td>\n      <td>0</td>\n      <td>0</td>\n      <td>0</td>\n      <td>1</td>\n      <td>0</td>\n      <td>0</td>\n      <td>0</td>\n      <td>0</td>\n      <td>0</td>\n      <td>0</td>\n    </tr>\n    <tr>\n      <th>2</th>\n      <td>2YKDILJ</td>\n      <td>1/6/2013</td>\n      <td>M</td>\n      <td>U</td>\n      <td>1991</td>\n      <td>748L</td>\n      <td>QZYX</td>\n      <td>90QI</td>\n      <td>0</td>\n      <td>0</td>\n      <td>...</td>\n      <td>0</td>\n      <td>0</td>\n      <td>0</td>\n      <td>0</td>\n      <td>0</td>\n      <td>0</td>\n      <td>0</td>\n      <td>0</td>\n      <td>0</td>\n      <td>1</td>\n    </tr>\n    <tr>\n      <th>3</th>\n      <td>2S9E81J</td>\n      <td>1/8/2019</td>\n      <td>M</td>\n      <td>M</td>\n      <td>1990</td>\n      <td>1X1H</td>\n      <td>BP09</td>\n      <td>56SI</td>\n      <td>0</td>\n      <td>0</td>\n      <td>...</td>\n      <td>0</td>\n      <td>0</td>\n      <td>0</td>\n      <td>1</td>\n      <td>0</td>\n      <td>0</td>\n      <td>0</td>\n      <td>0</td>\n      <td>0</td>\n      <td>0</td>\n    </tr>\n    <tr>\n      <th>4</th>\n      <td>BHDYVFT</td>\n      <td>1/8/2019</td>\n      <td>M</td>\n      <td>M</td>\n      <td>1990</td>\n      <td>748L</td>\n      <td>NO3L</td>\n      <td>T4MS</td>\n      <td>0</td>\n      <td>0</td>\n      <td>...</td>\n      <td>0</td>\n      <td>0</td>\n      <td>0</td>\n      <td>0</td>\n      <td>0</td>\n      <td>0</td>\n      <td>1</td>\n      <td>1</td>\n      <td>0</td>\n      <td>0</td>\n    </tr>\n  </tbody>\n</table>\n<p>5 rows × 29 columns</p>\n</div>"
     },
     "metadata": {},
     "execution_count": 31
    }
   ],
   "source": [
    "data = pd.read_csv('Train.csv')\n",
    "test = pd.read_csv('Test.csv')\n",
    "sample = pd.read_csv('SampleSubmission.csv')\n",
    "data.head()"
   ]
  },
  {
   "cell_type": "code",
   "execution_count": 32,
   "metadata": {},
   "outputs": [
    {
     "output_type": "execute_result",
     "data": {
      "text/plain": "((29132, 29), (210000, 2), (10000, 29))"
     },
     "metadata": {},
     "execution_count": 32
    }
   ],
   "source": [
    "data.shape,sample.shape, test.shape"
   ]
  },
  {
   "cell_type": "code",
   "execution_count": 4,
   "metadata": {},
   "outputs": [
    {
     "output_type": "execute_result",
     "data": {
      "text/plain": "Index([&#39;ID&#39;, &#39;join_date&#39;, &#39;sex&#39;, &#39;marital_status&#39;, &#39;birth_year&#39;, &#39;branch_code&#39;,\n       &#39;occupation_code&#39;, &#39;occupation_category_code&#39;, &#39;P5DA&#39;, &#39;RIBP&#39;, &#39;8NN1&#39;,\n       &#39;7POT&#39;, &#39;66FJ&#39;, &#39;GYSR&#39;, &#39;SOP4&#39;, &#39;RVSZ&#39;, &#39;PYUQ&#39;, &#39;LJR9&#39;, &#39;N2MW&#39;, &#39;AHXO&#39;,\n       &#39;BSTQ&#39;, &#39;FM3X&#39;, &#39;K6QO&#39;, &#39;QBOL&#39;, &#39;JWFN&#39;, &#39;JZ9D&#39;, &#39;J9JW&#39;, &#39;GHYX&#39;, &#39;ECY3&#39;],\n      dtype=&#39;object&#39;)"
     },
     "metadata": {},
     "execution_count": 4
    }
   ],
   "source": [
    "data.columns"
   ]
  },
  {
   "cell_type": "code",
   "execution_count": 33,
   "metadata": {},
   "outputs": [],
   "source": [
    "products =data[['P5DA', 'RIBP', '8NN1',\n",
    "       '7POT', '66FJ', 'GYSR', 'SOP4', 'RVSZ', 'PYUQ', 'LJR9', 'N2MW', 'AHXO',\n",
    "       'BSTQ', 'FM3X', 'K6QO', 'QBOL', 'JWFN', 'JZ9D', 'J9JW', 'GHYX', 'ECY3']]\n",
    "products_t =test[['P5DA', 'RIBP', '8NN1',\n",
    "       '7POT', '66FJ', 'GYSR', 'SOP4', 'RVSZ', 'PYUQ', 'LJR9', 'N2MW', 'AHXO',\n",
    "       'BSTQ', 'FM3X', 'K6QO', 'QBOL', 'JWFN', 'JZ9D', 'J9JW', 'GHYX', 'ECY3']]"
   ]
  },
  {
   "cell_type": "code",
   "execution_count": 35,
   "metadata": {},
   "outputs": [
    {
     "output_type": "execute_result",
     "data": {
      "text/plain": "       ID X PCODE  Label\n0  F86J5PC X P5DA      0\n1  F86J5PC X RIBP      0\n2  F86J5PC X 8NN1      0\n3  F86J5PC X 7POT      0\n4  F86J5PC X 66FJ      0",
      "text/html": "<div>\n<style scoped>\n    .dataframe tbody tr th:only-of-type {\n        vertical-align: middle;\n    }\n\n    .dataframe tbody tr th {\n        vertical-align: top;\n    }\n\n    .dataframe thead th {\n        text-align: right;\n    }\n</style>\n<table border=\"1\" class=\"dataframe\">\n  <thead>\n    <tr style=\"text-align: right;\">\n      <th></th>\n      <th>ID X PCODE</th>\n      <th>Label</th>\n    </tr>\n  </thead>\n  <tbody>\n    <tr>\n      <th>0</th>\n      <td>F86J5PC X P5DA</td>\n      <td>0</td>\n    </tr>\n    <tr>\n      <th>1</th>\n      <td>F86J5PC X RIBP</td>\n      <td>0</td>\n    </tr>\n    <tr>\n      <th>2</th>\n      <td>F86J5PC X 8NN1</td>\n      <td>0</td>\n    </tr>\n    <tr>\n      <th>3</th>\n      <td>F86J5PC X 7POT</td>\n      <td>0</td>\n    </tr>\n    <tr>\n      <th>4</th>\n      <td>F86J5PC X 66FJ</td>\n      <td>0</td>\n    </tr>\n  </tbody>\n</table>\n</div>"
     },
     "metadata": {},
     "execution_count": 35
    }
   ],
   "source": [
    "sample.head()"
   ]
  },
  {
   "cell_type": "code",
   "execution_count": 5,
   "metadata": {},
   "outputs": [
    {
     "output_type": "execute_result",
     "data": {
      "text/plain": "array([&#39;1X1H&#39;, &#39;UAOD&#39;, &#39;748L&#39;, &#39;E5SW&#39;, &#39;XX25&#39;, &#39;ZFER&#39;, &#39;30H5&#39;, &#39;9F9T&#39;,\n       &#39;O67J&#39;, &#39;94KC&#39;, &#39;49BM&#39;, &#39;BOAS&#39;, &#39;X23B&#39;, &#39;EU3L&#39;, &#39;O4JC&#39;],\n      dtype=object)"
     },
     "metadata": {},
     "execution_count": 5
    }
   ],
   "source": [
    "data['branch_code'].unique()"
   ]
  },
  {
   "cell_type": "code",
   "execution_count": 36,
   "metadata": {},
   "outputs": [
    {
     "output_type": "execute_result",
     "data": {
      "text/plain": "   P5DA  RIBP  8NN1  7POT  66FJ  GYSR  SOP4  RVSZ  PYUQ  LJR9  ...  AHXO  \\\n0     0     0     0     0     0     0     0     1     0     0  ...     0   \n1     0     0     0     0     0     0     0     1     0     0  ...     0   \n2     0     0     0     0     0     0     1     1     0     0  ...     0   \n3     0     0     0     0     0     0     0     1     0     0  ...     0   \n4     0     0     0     0     0     0     0     0     0     0  ...     0   \n\n   BSTQ  FM3X  K6QO  QBOL  JWFN  JZ9D  J9JW  GHYX  ECY3  \n0     0     0     1     0     0     0     0     0     0  \n1     0     0     1     0     0     0     0     0     0  \n2     0     0     0     0     0     0     0     0     1  \n3     0     0     1     0     0     0     0     0     0  \n4     0     0     0     0     0     1     1     0     0  \n\n[5 rows x 21 columns]",
      "text/html": "<div>\n<style scoped>\n    .dataframe tbody tr th:only-of-type {\n        vertical-align: middle;\n    }\n\n    .dataframe tbody tr th {\n        vertical-align: top;\n    }\n\n    .dataframe thead th {\n        text-align: right;\n    }\n</style>\n<table border=\"1\" class=\"dataframe\">\n  <thead>\n    <tr style=\"text-align: right;\">\n      <th></th>\n      <th>P5DA</th>\n      <th>RIBP</th>\n      <th>8NN1</th>\n      <th>7POT</th>\n      <th>66FJ</th>\n      <th>GYSR</th>\n      <th>SOP4</th>\n      <th>RVSZ</th>\n      <th>PYUQ</th>\n      <th>LJR9</th>\n      <th>...</th>\n      <th>AHXO</th>\n      <th>BSTQ</th>\n      <th>FM3X</th>\n      <th>K6QO</th>\n      <th>QBOL</th>\n      <th>JWFN</th>\n      <th>JZ9D</th>\n      <th>J9JW</th>\n      <th>GHYX</th>\n      <th>ECY3</th>\n    </tr>\n  </thead>\n  <tbody>\n    <tr>\n      <th>0</th>\n      <td>0</td>\n      <td>0</td>\n      <td>0</td>\n      <td>0</td>\n      <td>0</td>\n      <td>0</td>\n      <td>0</td>\n      <td>1</td>\n      <td>0</td>\n      <td>0</td>\n      <td>...</td>\n      <td>0</td>\n      <td>0</td>\n      <td>0</td>\n      <td>1</td>\n      <td>0</td>\n      <td>0</td>\n      <td>0</td>\n      <td>0</td>\n      <td>0</td>\n      <td>0</td>\n    </tr>\n    <tr>\n      <th>1</th>\n      <td>0</td>\n      <td>0</td>\n      <td>0</td>\n      <td>0</td>\n      <td>0</td>\n      <td>0</td>\n      <td>0</td>\n      <td>1</td>\n      <td>0</td>\n      <td>0</td>\n      <td>...</td>\n      <td>0</td>\n      <td>0</td>\n      <td>0</td>\n      <td>1</td>\n      <td>0</td>\n      <td>0</td>\n      <td>0</td>\n      <td>0</td>\n      <td>0</td>\n      <td>0</td>\n    </tr>\n    <tr>\n      <th>2</th>\n      <td>0</td>\n      <td>0</td>\n      <td>0</td>\n      <td>0</td>\n      <td>0</td>\n      <td>0</td>\n      <td>1</td>\n      <td>1</td>\n      <td>0</td>\n      <td>0</td>\n      <td>...</td>\n      <td>0</td>\n      <td>0</td>\n      <td>0</td>\n      <td>0</td>\n      <td>0</td>\n      <td>0</td>\n      <td>0</td>\n      <td>0</td>\n      <td>0</td>\n      <td>1</td>\n    </tr>\n    <tr>\n      <th>3</th>\n      <td>0</td>\n      <td>0</td>\n      <td>0</td>\n      <td>0</td>\n      <td>0</td>\n      <td>0</td>\n      <td>0</td>\n      <td>1</td>\n      <td>0</td>\n      <td>0</td>\n      <td>...</td>\n      <td>0</td>\n      <td>0</td>\n      <td>0</td>\n      <td>1</td>\n      <td>0</td>\n      <td>0</td>\n      <td>0</td>\n      <td>0</td>\n      <td>0</td>\n      <td>0</td>\n    </tr>\n    <tr>\n      <th>4</th>\n      <td>0</td>\n      <td>0</td>\n      <td>0</td>\n      <td>0</td>\n      <td>0</td>\n      <td>0</td>\n      <td>0</td>\n      <td>0</td>\n      <td>0</td>\n      <td>0</td>\n      <td>...</td>\n      <td>0</td>\n      <td>0</td>\n      <td>0</td>\n      <td>0</td>\n      <td>0</td>\n      <td>0</td>\n      <td>1</td>\n      <td>1</td>\n      <td>0</td>\n      <td>0</td>\n    </tr>\n  </tbody>\n</table>\n<p>5 rows × 21 columns</p>\n</div>"
     },
     "metadata": {},
     "execution_count": 36
    }
   ],
   "source": [
    "products.head()"
   ]
  },
  {
   "cell_type": "code",
   "execution_count": 37,
   "metadata": {},
   "outputs": [
    {
     "output_type": "execute_result",
     "data": {
      "text/plain": "   P5DA  RIBP  8NN1  7POT  66FJ  GYSR  SOP4  RVSZ  PYUQ  LJR9  ...  AHXO  \\\n0     0     0     0     0     0     0     0     1     0     0  ...     0   \n1     0     0     0     0     0     0     0     1     0     0  ...     0   \n2     0     0     0     0     0     0     0     1     0     0  ...     0   \n3     0     0     0     0     0     0     0     1     0     0  ...     0   \n4     0     0     0     0     0     0     0     0     0     0  ...     0   \n\n   BSTQ  FM3X  K6QO  QBOL  JWFN  JZ9D  J9JW  GHYX  ECY3  \n0     0     0     0     0     0     0     0     0     0  \n1     0     0     1     0     0     0     0     0     0  \n2     0     0     1     0     0     0     0     0     0  \n3     0     0     0     0     0     0     0     0     0  \n4     0     0     0     0     0     1     0     0     0  \n\n[5 rows x 21 columns]",
      "text/html": "<div>\n<style scoped>\n    .dataframe tbody tr th:only-of-type {\n        vertical-align: middle;\n    }\n\n    .dataframe tbody tr th {\n        vertical-align: top;\n    }\n\n    .dataframe thead th {\n        text-align: right;\n    }\n</style>\n<table border=\"1\" class=\"dataframe\">\n  <thead>\n    <tr style=\"text-align: right;\">\n      <th></th>\n      <th>P5DA</th>\n      <th>RIBP</th>\n      <th>8NN1</th>\n      <th>7POT</th>\n      <th>66FJ</th>\n      <th>GYSR</th>\n      <th>SOP4</th>\n      <th>RVSZ</th>\n      <th>PYUQ</th>\n      <th>LJR9</th>\n      <th>...</th>\n      <th>AHXO</th>\n      <th>BSTQ</th>\n      <th>FM3X</th>\n      <th>K6QO</th>\n      <th>QBOL</th>\n      <th>JWFN</th>\n      <th>JZ9D</th>\n      <th>J9JW</th>\n      <th>GHYX</th>\n      <th>ECY3</th>\n    </tr>\n  </thead>\n  <tbody>\n    <tr>\n      <th>0</th>\n      <td>0</td>\n      <td>0</td>\n      <td>0</td>\n      <td>0</td>\n      <td>0</td>\n      <td>0</td>\n      <td>0</td>\n      <td>1</td>\n      <td>0</td>\n      <td>0</td>\n      <td>...</td>\n      <td>0</td>\n      <td>0</td>\n      <td>0</td>\n      <td>0</td>\n      <td>0</td>\n      <td>0</td>\n      <td>0</td>\n      <td>0</td>\n      <td>0</td>\n      <td>0</td>\n    </tr>\n    <tr>\n      <th>1</th>\n      <td>0</td>\n      <td>0</td>\n      <td>0</td>\n      <td>0</td>\n      <td>0</td>\n      <td>0</td>\n      <td>0</td>\n      <td>1</td>\n      <td>0</td>\n      <td>0</td>\n      <td>...</td>\n      <td>0</td>\n      <td>0</td>\n      <td>0</td>\n      <td>1</td>\n      <td>0</td>\n      <td>0</td>\n      <td>0</td>\n      <td>0</td>\n      <td>0</td>\n      <td>0</td>\n    </tr>\n    <tr>\n      <th>2</th>\n      <td>0</td>\n      <td>0</td>\n      <td>0</td>\n      <td>0</td>\n      <td>0</td>\n      <td>0</td>\n      <td>0</td>\n      <td>1</td>\n      <td>0</td>\n      <td>0</td>\n      <td>...</td>\n      <td>0</td>\n      <td>0</td>\n      <td>0</td>\n      <td>1</td>\n      <td>0</td>\n      <td>0</td>\n      <td>0</td>\n      <td>0</td>\n      <td>0</td>\n      <td>0</td>\n    </tr>\n    <tr>\n      <th>3</th>\n      <td>0</td>\n      <td>0</td>\n      <td>0</td>\n      <td>0</td>\n      <td>0</td>\n      <td>0</td>\n      <td>0</td>\n      <td>1</td>\n      <td>0</td>\n      <td>0</td>\n      <td>...</td>\n      <td>0</td>\n      <td>0</td>\n      <td>0</td>\n      <td>0</td>\n      <td>0</td>\n      <td>0</td>\n      <td>0</td>\n      <td>0</td>\n      <td>0</td>\n      <td>0</td>\n    </tr>\n    <tr>\n      <th>4</th>\n      <td>0</td>\n      <td>0</td>\n      <td>0</td>\n      <td>0</td>\n      <td>0</td>\n      <td>0</td>\n      <td>0</td>\n      <td>0</td>\n      <td>0</td>\n      <td>0</td>\n      <td>...</td>\n      <td>0</td>\n      <td>0</td>\n      <td>0</td>\n      <td>0</td>\n      <td>0</td>\n      <td>0</td>\n      <td>1</td>\n      <td>0</td>\n      <td>0</td>\n      <td>0</td>\n    </tr>\n  </tbody>\n</table>\n<p>5 rows × 21 columns</p>\n</div>"
     },
     "metadata": {},
     "execution_count": 37
    }
   ],
   "source": [
    "products_t.head()"
   ]
  },
  {
   "cell_type": "code",
   "execution_count": 39,
   "metadata": {},
   "outputs": [],
   "source": [
    "#Axis Transformation\n",
    "data = data.melt(id_vars=data.columns[:8], value_vars=products, var_name = \"PCODE\", value_name=\"Label\" )\n",
    "test = test.melt(id_vars=test.columns[:8], value_vars=products, var_name = \"PCODE\", value_name=\"Label\" )"
   ]
  },
  {
   "cell_type": "code",
   "execution_count": 40,
   "metadata": {},
   "outputs": [
    {
     "output_type": "execute_result",
     "data": {
      "text/plain": "        ID join_date sex marital_status  birth_year branch_code  \\\n0  4WKQSBB  1/2/2019   F              M        1987        1X1H   \n1  CP5S02H  1/6/2019   F              M        1981        UAOD   \n2  2YKDILJ  1/6/2013   M              U        1991        748L   \n3  2S9E81J  1/8/2019   M              M        1990        1X1H   \n4  BHDYVFT  1/8/2019   M              M        1990        748L   \n\n  occupation_code occupation_category_code PCODE  Label  \n0            2A7I                     T4MS  P5DA      0  \n1            2A7I                     T4MS  P5DA      0  \n2            QZYX                     90QI  P5DA      0  \n3            BP09                     56SI  P5DA      0  \n4            NO3L                     T4MS  P5DA      0  ",
      "text/html": "<div>\n<style scoped>\n    .dataframe tbody tr th:only-of-type {\n        vertical-align: middle;\n    }\n\n    .dataframe tbody tr th {\n        vertical-align: top;\n    }\n\n    .dataframe thead th {\n        text-align: right;\n    }\n</style>\n<table border=\"1\" class=\"dataframe\">\n  <thead>\n    <tr style=\"text-align: right;\">\n      <th></th>\n      <th>ID</th>\n      <th>join_date</th>\n      <th>sex</th>\n      <th>marital_status</th>\n      <th>birth_year</th>\n      <th>branch_code</th>\n      <th>occupation_code</th>\n      <th>occupation_category_code</th>\n      <th>PCODE</th>\n      <th>Label</th>\n    </tr>\n  </thead>\n  <tbody>\n    <tr>\n      <th>0</th>\n      <td>4WKQSBB</td>\n      <td>1/2/2019</td>\n      <td>F</td>\n      <td>M</td>\n      <td>1987</td>\n      <td>1X1H</td>\n      <td>2A7I</td>\n      <td>T4MS</td>\n      <td>P5DA</td>\n      <td>0</td>\n    </tr>\n    <tr>\n      <th>1</th>\n      <td>CP5S02H</td>\n      <td>1/6/2019</td>\n      <td>F</td>\n      <td>M</td>\n      <td>1981</td>\n      <td>UAOD</td>\n      <td>2A7I</td>\n      <td>T4MS</td>\n      <td>P5DA</td>\n      <td>0</td>\n    </tr>\n    <tr>\n      <th>2</th>\n      <td>2YKDILJ</td>\n      <td>1/6/2013</td>\n      <td>M</td>\n      <td>U</td>\n      <td>1991</td>\n      <td>748L</td>\n      <td>QZYX</td>\n      <td>90QI</td>\n      <td>P5DA</td>\n      <td>0</td>\n    </tr>\n    <tr>\n      <th>3</th>\n      <td>2S9E81J</td>\n      <td>1/8/2019</td>\n      <td>M</td>\n      <td>M</td>\n      <td>1990</td>\n      <td>1X1H</td>\n      <td>BP09</td>\n      <td>56SI</td>\n      <td>P5DA</td>\n      <td>0</td>\n    </tr>\n    <tr>\n      <th>4</th>\n      <td>BHDYVFT</td>\n      <td>1/8/2019</td>\n      <td>M</td>\n      <td>M</td>\n      <td>1990</td>\n      <td>748L</td>\n      <td>NO3L</td>\n      <td>T4MS</td>\n      <td>P5DA</td>\n      <td>0</td>\n    </tr>\n  </tbody>\n</table>\n</div>"
     },
     "metadata": {},
     "execution_count": 40
    }
   ],
   "source": [
    "data.head()"
   ]
  },
  {
   "cell_type": "code",
   "execution_count": null,
   "metadata": {},
   "outputs": [],
   "source": [
    "#A merger\n",
    "data['combiner']='x'"
   ]
  },
  {
   "cell_type": "code",
   "execution_count": 41,
   "metadata": {},
   "outputs": [],
   "source": [
    "#Set\n",
    "Data=pd.concat([data,test],sort=False).reset_index(drop=True)"
   ]
  },
  {
   "cell_type": "code",
   "execution_count": 42,
   "metadata": {},
   "outputs": [
    {
     "output_type": "execute_result",
     "data": {
      "text/plain": "        ID join_date sex marital_status  birth_year branch_code  \\\n0  4WKQSBB  1/2/2019   F              M        1987        1X1H   \n1  CP5S02H  1/6/2019   F              M        1981        UAOD   \n2  2YKDILJ  1/6/2013   M              U        1991        748L   \n\n  occupation_code occupation_category_code PCODE  Label  \n0            2A7I                     T4MS  P5DA      0  \n1            2A7I                     T4MS  P5DA      0  \n2            QZYX                     90QI  P5DA      0  ",
      "text/html": "<div>\n<style scoped>\n    .dataframe tbody tr th:only-of-type {\n        vertical-align: middle;\n    }\n\n    .dataframe tbody tr th {\n        vertical-align: top;\n    }\n\n    .dataframe thead th {\n        text-align: right;\n    }\n</style>\n<table border=\"1\" class=\"dataframe\">\n  <thead>\n    <tr style=\"text-align: right;\">\n      <th></th>\n      <th>ID</th>\n      <th>join_date</th>\n      <th>sex</th>\n      <th>marital_status</th>\n      <th>birth_year</th>\n      <th>branch_code</th>\n      <th>occupation_code</th>\n      <th>occupation_category_code</th>\n      <th>PCODE</th>\n      <th>Label</th>\n    </tr>\n  </thead>\n  <tbody>\n    <tr>\n      <th>0</th>\n      <td>4WKQSBB</td>\n      <td>1/2/2019</td>\n      <td>F</td>\n      <td>M</td>\n      <td>1987</td>\n      <td>1X1H</td>\n      <td>2A7I</td>\n      <td>T4MS</td>\n      <td>P5DA</td>\n      <td>0</td>\n    </tr>\n    <tr>\n      <th>1</th>\n      <td>CP5S02H</td>\n      <td>1/6/2019</td>\n      <td>F</td>\n      <td>M</td>\n      <td>1981</td>\n      <td>UAOD</td>\n      <td>2A7I</td>\n      <td>T4MS</td>\n      <td>P5DA</td>\n      <td>0</td>\n    </tr>\n    <tr>\n      <th>2</th>\n      <td>2YKDILJ</td>\n      <td>1/6/2013</td>\n      <td>M</td>\n      <td>U</td>\n      <td>1991</td>\n      <td>748L</td>\n      <td>QZYX</td>\n      <td>90QI</td>\n      <td>P5DA</td>\n      <td>0</td>\n    </tr>\n  </tbody>\n</table>\n</div>"
     },
     "metadata": {},
     "execution_count": 42
    }
   ],
   "source": [
    "Data.head(3)"
   ]
  },
  {
   "cell_type": "code",
   "execution_count": 53,
   "metadata": {},
   "outputs": [],
   "source": [
    "from datetime import date\n",
    "today = date.today()\n",
    "today = today.strftime(\"%d/%m/%Y\")"
   ]
  },
  {
   "cell_type": "code",
   "execution_count": 54,
   "metadata": {},
   "outputs": [],
   "source": [
    "Data['today'] = today"
   ]
  },
  {
   "cell_type": "code",
   "execution_count": 55,
   "metadata": {},
   "outputs": [
    {
     "output_type": "execute_result",
     "data": {
      "text/plain": "        ID join_date sex marital_status  birth_year branch_code  \\\n0  4WKQSBB  1/2/2019   F              M        1987        1X1H   \n1  CP5S02H  1/6/2019   F              M        1981        UAOD   \n2  2YKDILJ  1/6/2013   M              U        1991        748L   \n\n  occupation_code occupation_category_code PCODE  Label       today  \n0            2A7I                     T4MS  P5DA      0  04/10/2020  \n1            2A7I                     T4MS  P5DA      0  04/10/2020  \n2            QZYX                     90QI  P5DA      0  04/10/2020  ",
      "text/html": "<div>\n<style scoped>\n    .dataframe tbody tr th:only-of-type {\n        vertical-align: middle;\n    }\n\n    .dataframe tbody tr th {\n        vertical-align: top;\n    }\n\n    .dataframe thead th {\n        text-align: right;\n    }\n</style>\n<table border=\"1\" class=\"dataframe\">\n  <thead>\n    <tr style=\"text-align: right;\">\n      <th></th>\n      <th>ID</th>\n      <th>join_date</th>\n      <th>sex</th>\n      <th>marital_status</th>\n      <th>birth_year</th>\n      <th>branch_code</th>\n      <th>occupation_code</th>\n      <th>occupation_category_code</th>\n      <th>PCODE</th>\n      <th>Label</th>\n      <th>today</th>\n    </tr>\n  </thead>\n  <tbody>\n    <tr>\n      <th>0</th>\n      <td>4WKQSBB</td>\n      <td>1/2/2019</td>\n      <td>F</td>\n      <td>M</td>\n      <td>1987</td>\n      <td>1X1H</td>\n      <td>2A7I</td>\n      <td>T4MS</td>\n      <td>P5DA</td>\n      <td>0</td>\n      <td>04/10/2020</td>\n    </tr>\n    <tr>\n      <th>1</th>\n      <td>CP5S02H</td>\n      <td>1/6/2019</td>\n      <td>F</td>\n      <td>M</td>\n      <td>1981</td>\n      <td>UAOD</td>\n      <td>2A7I</td>\n      <td>T4MS</td>\n      <td>P5DA</td>\n      <td>0</td>\n      <td>04/10/2020</td>\n    </tr>\n    <tr>\n      <th>2</th>\n      <td>2YKDILJ</td>\n      <td>1/6/2013</td>\n      <td>M</td>\n      <td>U</td>\n      <td>1991</td>\n      <td>748L</td>\n      <td>QZYX</td>\n      <td>90QI</td>\n      <td>P5DA</td>\n      <td>0</td>\n      <td>04/10/2020</td>\n    </tr>\n  </tbody>\n</table>\n</div>"
     },
     "metadata": {},
     "execution_count": 55
    }
   ],
   "source": [
    "Data.head(3)"
   ]
  },
  {
   "cell_type": "code",
   "execution_count": 56,
   "metadata": {
    "tags": []
   },
   "outputs": [
    {
     "output_type": "stream",
     "name": "stdout",
     "text": "====================================\nTRAIN LABEL DISTRIBUTION\n====================================\n0    545419\n1     66353\nName: Label, dtype: int64\n====================================\nTEST LABEL DISTRIBUTION\n====================================\n0    197147\n1     12853\nName: Label, dtype: int64\n====================================\nSAMPLE SUBMISSION LABEL DISTRIBUTION\n====================================\n0    197147\n1     12853\nName: Label, dtype: int64\n"
    }
   ],
   "source": [
    "#Confirm Distribution (TEST AND SAMPLE SUBMISSION FILE)\n",
    "print('==' * 18);print('TRAIN LABEL DISTRIBUTION');print('==' * 18);print(data['Label'].value_counts())\n",
    "print('==' * 18);print('TEST LABEL DISTRIBUTION');print('==' * 18);print(test['Label'].value_counts())\n",
    "print('==' * 18);print('SAMPLE SUBMISSION LABEL DISTRIBUTION');print('==' * 18);print(sample['Label'].value_counts())"
   ]
  },
  {
   "cell_type": "code",
   "execution_count": 71,
   "metadata": {},
   "outputs": [
    {
     "output_type": "execute_result",
     "data": {
      "text/plain": "        ID join_date sex marital_status  birth_year branch_code  \\\n0  4WKQSBB  1/2/2019   F              M        1987        1X1H   \n1  CP5S02H  1/6/2019   F              M        1981        UAOD   \n2  2YKDILJ  1/6/2013   M              U        1991        748L   \n3  2S9E81J  1/8/2019   M              M        1990        1X1H   \n4  BHDYVFT  1/8/2019   M              M        1990        748L   \n\n  occupation_code occupation_category_code PCODE  Label  \n0            2A7I                     T4MS  P5DA      0  \n1            2A7I                     T4MS  P5DA      0  \n2            QZYX                     90QI  P5DA      0  \n3            BP09                     56SI  P5DA      0  \n4            NO3L                     T4MS  P5DA      0  ",
      "text/html": "<div>\n<style scoped>\n    .dataframe tbody tr th:only-of-type {\n        vertical-align: middle;\n    }\n\n    .dataframe tbody tr th {\n        vertical-align: top;\n    }\n\n    .dataframe thead th {\n        text-align: right;\n    }\n</style>\n<table border=\"1\" class=\"dataframe\">\n  <thead>\n    <tr style=\"text-align: right;\">\n      <th></th>\n      <th>ID</th>\n      <th>join_date</th>\n      <th>sex</th>\n      <th>marital_status</th>\n      <th>birth_year</th>\n      <th>branch_code</th>\n      <th>occupation_code</th>\n      <th>occupation_category_code</th>\n      <th>PCODE</th>\n      <th>Label</th>\n    </tr>\n  </thead>\n  <tbody>\n    <tr>\n      <th>0</th>\n      <td>4WKQSBB</td>\n      <td>1/2/2019</td>\n      <td>F</td>\n      <td>M</td>\n      <td>1987</td>\n      <td>1X1H</td>\n      <td>2A7I</td>\n      <td>T4MS</td>\n      <td>P5DA</td>\n      <td>0</td>\n    </tr>\n    <tr>\n      <th>1</th>\n      <td>CP5S02H</td>\n      <td>1/6/2019</td>\n      <td>F</td>\n      <td>M</td>\n      <td>1981</td>\n      <td>UAOD</td>\n      <td>2A7I</td>\n      <td>T4MS</td>\n      <td>P5DA</td>\n      <td>0</td>\n    </tr>\n    <tr>\n      <th>2</th>\n      <td>2YKDILJ</td>\n      <td>1/6/2013</td>\n      <td>M</td>\n      <td>U</td>\n      <td>1991</td>\n      <td>748L</td>\n      <td>QZYX</td>\n      <td>90QI</td>\n      <td>P5DA</td>\n      <td>0</td>\n    </tr>\n    <tr>\n      <th>3</th>\n      <td>2S9E81J</td>\n      <td>1/8/2019</td>\n      <td>M</td>\n      <td>M</td>\n      <td>1990</td>\n      <td>1X1H</td>\n      <td>BP09</td>\n      <td>56SI</td>\n      <td>P5DA</td>\n      <td>0</td>\n    </tr>\n    <tr>\n      <th>4</th>\n      <td>BHDYVFT</td>\n      <td>1/8/2019</td>\n      <td>M</td>\n      <td>M</td>\n      <td>1990</td>\n      <td>748L</td>\n      <td>NO3L</td>\n      <td>T4MS</td>\n      <td>P5DA</td>\n      <td>0</td>\n    </tr>\n  </tbody>\n</table>\n</div>"
     },
     "metadata": {},
     "execution_count": 71
    }
   ],
   "source": [
    "data.head()"
   ]
  },
  {
   "cell_type": "code",
   "execution_count": 72,
   "metadata": {},
   "outputs": [
    {
     "output_type": "execute_result",
     "data": {
      "text/plain": "        ID join_date sex marital_status  birth_year branch_code  \\\n0  4WKQSBB  1/2/2019   F              M        1987        1X1H   \n1  CP5S02H  1/6/2019   F              M        1981        UAOD   \n2  2YKDILJ  1/6/2013   M              U        1991        748L   \n3  2S9E81J  1/8/2019   M              M        1990        1X1H   \n4  BHDYVFT  1/8/2019   M              M        1990        748L   \n\n  occupation_code occupation_category_code PCODE  Label       today  \n0            2A7I                     T4MS  P5DA      0  04/10/2020  \n1            2A7I                     T4MS  P5DA      0  04/10/2020  \n2            QZYX                     90QI  P5DA      0  04/10/2020  \n3            BP09                     56SI  P5DA      0  04/10/2020  \n4            NO3L                     T4MS  P5DA      0  04/10/2020  ",
      "text/html": "<div>\n<style scoped>\n    .dataframe tbody tr th:only-of-type {\n        vertical-align: middle;\n    }\n\n    .dataframe tbody tr th {\n        vertical-align: top;\n    }\n\n    .dataframe thead th {\n        text-align: right;\n    }\n</style>\n<table border=\"1\" class=\"dataframe\">\n  <thead>\n    <tr style=\"text-align: right;\">\n      <th></th>\n      <th>ID</th>\n      <th>join_date</th>\n      <th>sex</th>\n      <th>marital_status</th>\n      <th>birth_year</th>\n      <th>branch_code</th>\n      <th>occupation_code</th>\n      <th>occupation_category_code</th>\n      <th>PCODE</th>\n      <th>Label</th>\n      <th>today</th>\n    </tr>\n  </thead>\n  <tbody>\n    <tr>\n      <th>0</th>\n      <td>4WKQSBB</td>\n      <td>1/2/2019</td>\n      <td>F</td>\n      <td>M</td>\n      <td>1987</td>\n      <td>1X1H</td>\n      <td>2A7I</td>\n      <td>T4MS</td>\n      <td>P5DA</td>\n      <td>0</td>\n      <td>04/10/2020</td>\n    </tr>\n    <tr>\n      <th>1</th>\n      <td>CP5S02H</td>\n      <td>1/6/2019</td>\n      <td>F</td>\n      <td>M</td>\n      <td>1981</td>\n      <td>UAOD</td>\n      <td>2A7I</td>\n      <td>T4MS</td>\n      <td>P5DA</td>\n      <td>0</td>\n      <td>04/10/2020</td>\n    </tr>\n    <tr>\n      <th>2</th>\n      <td>2YKDILJ</td>\n      <td>1/6/2013</td>\n      <td>M</td>\n      <td>U</td>\n      <td>1991</td>\n      <td>748L</td>\n      <td>QZYX</td>\n      <td>90QI</td>\n      <td>P5DA</td>\n      <td>0</td>\n      <td>04/10/2020</td>\n    </tr>\n    <tr>\n      <th>3</th>\n      <td>2S9E81J</td>\n      <td>1/8/2019</td>\n      <td>M</td>\n      <td>M</td>\n      <td>1990</td>\n      <td>1X1H</td>\n      <td>BP09</td>\n      <td>56SI</td>\n      <td>P5DA</td>\n      <td>0</td>\n      <td>04/10/2020</td>\n    </tr>\n    <tr>\n      <th>4</th>\n      <td>BHDYVFT</td>\n      <td>1/8/2019</td>\n      <td>M</td>\n      <td>M</td>\n      <td>1990</td>\n      <td>748L</td>\n      <td>NO3L</td>\n      <td>T4MS</td>\n      <td>P5DA</td>\n      <td>0</td>\n      <td>04/10/2020</td>\n    </tr>\n  </tbody>\n</table>\n</div>"
     },
     "metadata": {},
     "execution_count": 72
    }
   ],
   "source": [
    "Data.head()"
   ]
  },
  {
   "cell_type": "code",
   "execution_count": 74,
   "metadata": {},
   "outputs": [
    {
     "output_type": "error",
     "ename": "AttributeError",
     "evalue": "&#39;DataFrame&#39; object has no attribute &#39;combiner&#39;",
     "traceback": [
      "\u001b[1;31m---------------------------------------------------------------------------\u001b[0m",
      "\u001b[1;31mAttributeError\u001b[0m                            Traceback (most recent call last)",
      "\u001b[1;32m&lt;ipython-input-74-77a13076371b&gt;\u001b[0m in \u001b[0;36m&lt;module&gt;\u001b[1;34m\u001b[0m\n\u001b[1;32m----&gt; 1\u001b[1;33m \u001b[0mtrain\u001b[0m\u001b[1;33m=\u001b[0m\u001b[0mData\u001b[0m\u001b[1;33m[\u001b[0m\u001b[0mdata\u001b[0m\u001b[1;33m.\u001b[0m\u001b[0mcombiner\u001b[0m\u001b[1;33m.\u001b[0m\u001b[0mnotnull\u001b[0m\u001b[1;33m(\u001b[0m\u001b[1;33m)\u001b[0m\u001b[1;33m]\u001b[0m\u001b[1;33m.\u001b[0m\u001b[0mreset_index\u001b[0m\u001b[1;33m(\u001b[0m\u001b[0mdrop\u001b[0m\u001b[1;33m=\u001b[0m\u001b[1;32mTrue\u001b[0m\u001b[1;33m)\u001b[0m\u001b[1;33m;\u001b[0m\u001b[0mtest\u001b[0m\u001b[1;33m=\u001b[0m\u001b[0mData\u001b[0m\u001b[1;33m[\u001b[0m\u001b[0mData\u001b[0m\u001b[1;33m.\u001b[0m\u001b[0mcombiner\u001b[0m\u001b[1;33m.\u001b[0m\u001b[0misna\u001b[0m\u001b[1;33m(\u001b[0m\u001b[1;33m)\u001b[0m\u001b[1;33m]\u001b[0m\u001b[1;33m.\u001b[0m\u001b[0mreset_index\u001b[0m\u001b[1;33m(\u001b[0m\u001b[0mdrop\u001b[0m\u001b[1;33m=\u001b[0m\u001b[1;32mTrue\u001b[0m\u001b[1;33m)\u001b[0m\u001b[1;33m\u001b[0m\u001b[1;33m\u001b[0m\u001b[0m\n\u001b[0m\u001b[0;32m      2\u001b[0m \u001b[0mtrain\u001b[0m\u001b[1;33m.\u001b[0m\u001b[0mdrop\u001b[0m\u001b[1;33m(\u001b[0m\u001b[1;34m&#39;combiner&#39;\u001b[0m\u001b[1;33m,\u001b[0m \u001b[0minplace\u001b[0m\u001b[1;33m=\u001b[0m\u001b[1;32mTrue\u001b[0m\u001b[1;33m,\u001b[0m \u001b[0maxis\u001b[0m\u001b[1;33m=\u001b[0m\u001b[1;36m1\u001b[0m\u001b[1;33m)\u001b[0m\u001b[1;33m;\u001b[0m\u001b[0mtest\u001b[0m\u001b[1;33m.\u001b[0m\u001b[0mdrop\u001b[0m\u001b[1;33m(\u001b[0m\u001b[1;33m[\u001b[0m\u001b[1;34m&#39;Label&#39;\u001b[0m\u001b[1;33m,\u001b[0m\u001b[1;34m&#39;combiner&#39;\u001b[0m\u001b[1;33m]\u001b[0m\u001b[1;33m,\u001b[0m \u001b[0minplace\u001b[0m\u001b[1;33m=\u001b[0m\u001b[1;32mTrue\u001b[0m\u001b[1;33m,\u001b[0m \u001b[0maxis\u001b[0m\u001b[1;33m=\u001b[0m\u001b[1;36m1\u001b[0m\u001b[1;33m)\u001b[0m\u001b[1;33m\u001b[0m\u001b[1;33m\u001b[0m\u001b[0m\n\u001b[0;32m      3\u001b[0m \u001b[0mprint\u001b[0m\u001b[1;33m(\u001b[0m\u001b[0mtrain\u001b[0m\u001b[1;33m.\u001b[0m\u001b[0mshape\u001b[0m\u001b[1;33m,\u001b[0m \u001b[0mtest\u001b[0m\u001b[1;33m.\u001b[0m\u001b[0mshape\u001b[0m\u001b[1;33m,\u001b[0m \u001b[0msubmission\u001b[0m\u001b[1;33m.\u001b[0m\u001b[0mshape\u001b[0m\u001b[1;33m)\u001b[0m\u001b[1;33m\u001b[0m\u001b[1;33m\u001b[0m\u001b[0m\n",
      "\u001b[1;32m~\\AppData\\Roaming\\Python\\Python37\\site-packages\\pandas\\core\\generic.py\u001b[0m in \u001b[0;36m__getattr__\u001b[1;34m(self, name)\u001b[0m\n\u001b[0;32m   5177\u001b[0m             \u001b[1;32mif\u001b[0m \u001b[0mself\u001b[0m\u001b[1;33m.\u001b[0m\u001b[0m_info_axis\u001b[0m\u001b[1;33m.\u001b[0m\u001b[0m_can_hold_identifiers_and_holds_name\u001b[0m\u001b[1;33m(\u001b[0m\u001b[0mname\u001b[0m\u001b[1;33m)\u001b[0m\u001b[1;33m:\u001b[0m\u001b[1;33m\u001b[0m\u001b[1;33m\u001b[0m\u001b[0m\n\u001b[0;32m   5178\u001b[0m                 \u001b[1;32mreturn\u001b[0m \u001b[0mself\u001b[0m\u001b[1;33m[\u001b[0m\u001b[0mname\u001b[0m\u001b[1;33m]\u001b[0m\u001b[1;33m\u001b[0m\u001b[1;33m\u001b[0m\u001b[0m\n\u001b[1;32m-&gt; 5179\u001b[1;33m             \u001b[1;32mreturn\u001b[0m \u001b[0mobject\u001b[0m\u001b[1;33m.\u001b[0m\u001b[0m__getattribute__\u001b[0m\u001b[1;33m(\u001b[0m\u001b[0mself\u001b[0m\u001b[1;33m,\u001b[0m \u001b[0mname\u001b[0m\u001b[1;33m)\u001b[0m\u001b[1;33m\u001b[0m\u001b[1;33m\u001b[0m\u001b[0m\n\u001b[0m\u001b[0;32m   5180\u001b[0m \u001b[1;33m\u001b[0m\u001b[0m\n\u001b[0;32m   5181\u001b[0m     \u001b[1;32mdef\u001b[0m \u001b[0m__setattr__\u001b[0m\u001b[1;33m(\u001b[0m\u001b[0mself\u001b[0m\u001b[1;33m,\u001b[0m \u001b[0mname\u001b[0m\u001b[1;33m,\u001b[0m \u001b[0mvalue\u001b[0m\u001b[1;33m)\u001b[0m\u001b[1;33m:\u001b[0m\u001b[1;33m\u001b[0m\u001b[1;33m\u001b[0m\u001b[0m\n",
      "\u001b[1;31mAttributeError\u001b[0m: &#39;DataFrame&#39; object has no attribute &#39;combiner&#39;"
     ]
    }
   ],
   "source": [
    "train=Data[data.combiner.notnull()].reset_index(drop=True);test=Data[Data.combiner.isna()].reset_index(drop=True)\n",
    "train.drop('combiner', inplace=True, axis=1);test.drop(['Label','combiner'], inplace=True, axis=1)\n",
    "print(train.shape, test.shape, submission.shape)"
   ]
  },
  {
   "cell_type": "code",
   "execution_count": null,
   "metadata": {},
   "outputs": [],
   "source": []
  }
 ]
}